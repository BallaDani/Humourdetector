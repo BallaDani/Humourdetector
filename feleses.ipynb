{
 "cells": [
  {
   "cell_type": "code",
   "execution_count": 1,
   "metadata": {},
   "outputs": [],
   "source": [
    "import numpy as np\n",
    "import pandas as pd\n",
    "\n",
    "import matplotlib.pyplot as plt\n",
    "\n",
    "from textblob import TextBlob\n",
    "import seaborn as sns\n",
    "\n",
    "from sklearn.model_selection import train_test_split\n",
    "import tensorflow as tf"
   ]
  },
  {
   "cell_type": "code",
   "execution_count": 16,
   "metadata": {},
   "outputs": [],
   "source": [
    "dataset=pd.read_csv('dataset.csv')\n",
    "#dataset = pd.read_csv('/kaggle/input/200k-short-texts-for-humor-detection/dataset.csv')\n",
    "dataset\n",
    "\n",
    "text=dataset.text.to_list()"
   ]
  },
  {
   "cell_type": "code",
   "execution_count": 31,
   "metadata": {},
   "outputs": [],
   "source": [
    "tokenizer = tf.keras.preprocessing.text.Tokenizer(filters='\"&(),-/:;<=>[\\\\]_`{|}~\\t\\n0123456789',\n",
    "                      lower=True, split=' ')\n",
    "tokenizer.fit_on_texts(np.array(dataset['text']))\n",
    "vocab_size = len(tokenizer.word_index) + 1\n",
    "\n",
    "word_len=[]\n",
    "for i in range(len(dataset)):\n",
    "    word_len.append(len(dataset.text[i].split(' ')))"
   ]
  },
  {
   "cell_type": "code",
   "execution_count": 6,
   "metadata": {},
   "outputs": [
    {
     "data": {
      "image/png": "[encoded data removed]",
      "text/plain": [
       "<Figure size 1600x600 with 1 Axes>"
      ]
     },
     "metadata": {},
     "output_type": "display_data"
    }
   ],
   "source": [
    "lengths=[]\n",
    "for x in range(len(dataset)):\n",
    "    i = dataset['text'][x]\n",
    "    i = tokenizer.texts_to_sequences([i])\n",
    "    lengths.append(len(i[0]))\n",
    "lengths = np.array(lengths)\n",
    "sns.set(rc={'figure.figsize':(16,6)})\n",
    "fig = sns.histplot(lengths, kde=False, bins=25)\n",
    "plt.xlabel('Length of Sentence (in words)')\n",
    "plt.axvline(x=lengths.mean(),\n",
    "            color='red',ls='--', label=\"mean\")\n",
    "plt.legend(loc='upper right', prop={'size': 12})\n",
    "plt.show(fig)"
   ]
  },
  {
   "cell_type": "code",
   "execution_count": 22,
   "metadata": {},
   "outputs": [],
   "source": [
    "\n",
    "train_seq=tokenizer.texts_to_sequences(text)"
   ]
  },
  {
   "cell_type": "code",
   "execution_count": 23,
   "metadata": {},
   "outputs": [],
   "source": [
    "text_padded = tf.keras.preprocessing.sequence.pad_sequences(\n",
    "    train_seq,\n",
    "    maxlen=lengths.max(),\n",
    "    dtype='int32',\n",
    "    padding='post',\n",
    "    truncating='post',\n",
    "    value=0.0\n",
    ")"
   ]
  },
  {
   "cell_type": "code",
   "execution_count": 24,
   "metadata": {},
   "outputs": [
    {
     "data": {
      "text/plain": [
       "200000"
      ]
     },
     "execution_count": 24,
     "metadata": {},
     "output_type": "execute_result"
    }
   ],
   "source": [
    "len(text_padded)"
   ]
  },
  {
   "cell_type": "code",
   "execution_count": 27,
   "metadata": {},
   "outputs": [],
   "source": [
    "X_train, X_test, Y_train, Y_test= train_test_split(text_padded, dataset.humor,\n",
    "                                                  test_size=0.2, random_state=1729)\n",
    "\n"
   ]
  },
  {
   "cell_type": "code",
   "execution_count": 28,
   "metadata": {},
   "outputs": [],
   "source": [
    "from tensorflow.keras import Sequential\n",
    "from tensorflow.keras import layers\n",
    "from tensorflow.keras.layers import LSTM, Dense, Bidirectional,InputLayer,Embedding, Flatten,Input,Dropout"
   ]
  },
  {
   "cell_type": "code",
   "execution_count": 33,
   "metadata": {},
   "outputs": [
    {
     "ename": "AttributeError",
     "evalue": "'list' object has no attribute 'max'",
     "output_type": "error",
     "traceback": [
      "\u001b[1;31m---------------------------------------------------------------------------\u001b[0m",
      "\u001b[1;31mAttributeError\u001b[0m                            Traceback (most recent call last)",
      "\u001b[1;32mc:\\Users\\Balla\\Documents\\Bevgép-féléves\\feleses.ipynb Cell 10\u001b[0m line \u001b[0;36m4\n\u001b[0;32m      <a href='vscode-notebook-cell:/c%3A/Users/Balla/Documents/Bevg%C3%A9p-f%C3%A9l%C3%A9ves/feleses.ipynb#X12sZmlsZQ%3D%3D?line=0'>1</a>\u001b[0m model\u001b[39m=\u001b[39mtf\u001b[39m.\u001b[39mkeras\u001b[39m.\u001b[39mSequential()\n\u001b[0;32m      <a href='vscode-notebook-cell:/c%3A/Users/Balla/Documents/Bevg%C3%A9p-f%C3%A9l%C3%A9ves/feleses.ipynb#X12sZmlsZQ%3D%3D?line=2'>3</a>\u001b[0m model\u001b[39m.\u001b[39madd(Input(shape\u001b[39m=\u001b[39m[lengths\u001b[39m.\u001b[39mmax()]))\n\u001b[1;32m----> <a href='vscode-notebook-cell:/c%3A/Users/Balla/Documents/Bevg%C3%A9p-f%C3%A9l%C3%A9ves/feleses.ipynb#X12sZmlsZQ%3D%3D?line=3'>4</a>\u001b[0m model\u001b[39m.\u001b[39madd(Embedding(word_len\u001b[39m.\u001b[39;49mmax(),\u001b[39m128\u001b[39m,input_length\u001b[39m=\u001b[39mlengths\u001b[39m.\u001b[39mmax()))    \n\u001b[0;32m      <a href='vscode-notebook-cell:/c%3A/Users/Balla/Documents/Bevg%C3%A9p-f%C3%A9l%C3%A9ves/feleses.ipynb#X12sZmlsZQ%3D%3D?line=5'>6</a>\u001b[0m model\u001b[39m.\u001b[39madd(LSTM(\u001b[39m200\u001b[39m, return_sequences\u001b[39m=\u001b[39m\u001b[39mTrue\u001b[39;00m))\n\u001b[0;32m      <a href='vscode-notebook-cell:/c%3A/Users/Balla/Documents/Bevg%C3%A9p-f%C3%A9l%C3%A9ves/feleses.ipynb#X12sZmlsZQ%3D%3D?line=6'>7</a>\u001b[0m model\u001b[39m.\u001b[39madd(Dropout(\u001b[39m0.5\u001b[39m))\n",
      "\u001b[1;31mAttributeError\u001b[0m: 'list' object has no attribute 'max'"
     ]
    }
   ],
   "source": [
    "model=tf.keras.Sequential()\n",
    "\n",
    "model.add(Input(shape=[lengths.max()]))\n",
    "model.add(Embedding(word_len.max(),128,input_length=lengths.max()))    \n",
    "\n",
    "model.add(LSTM(200, return_sequences=True))\n",
    "model.add(Dropout(0.5))\n",
    "\n",
    "model.add(LSTM(200, return_sequences=True))\n",
    "model.add(Dropout(0.5))\n",
    "\n",
    "model.add(tf.keras.layers.Dense(1,activation='sigmoid')) #output layer\n",
    "model.summary()"
   ]
  }
 ],
 "metadata": {
  "kernelspec": {
   "display_name": "Python 3",
   "language": "python",
   "name": "python3"
  },
  "language_info": {
   "codemirror_mode": {
    "name": "ipython",
    "version": 3
   },
   "file_extension": ".py",
   "mimetype": "text/x-python",
   "name": "python",
   "nbconvert_exporter": "python",
   "pygments_lexer": "ipython3",
   "version": "3.10.11"
  },
  "orig_nbformat": 4
 },
 "nbformat": 4,
 "nbformat_minor": 2
}
