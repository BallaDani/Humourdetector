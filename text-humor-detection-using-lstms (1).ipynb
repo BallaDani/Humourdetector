{
 "cells": [
  {
   "cell_type": "markdown",
   "id": "ea3e788e",
   "metadata": {
    "papermill": {
     "duration": 0.033119,
     "end_time": "2023-03-28T20:13:03.003712",
     "exception": false,
     "start_time": "2023-03-28T20:13:02.970593",
     "status": "completed"
    },
    "tags": []
   },
   "source": [
    "# <b>1 <span style='color:#4285f4'>|</span> Importing Libraries</b>\n",
    "- **For ML Models**: tensorflow, keras  \n",
    "- **For Data Processing**: numpy, pandas, sklearn  \n",
    "- **For Data Visualization**: matplotlib, seaborn, plotly  "
   ]
  },
  {
   "cell_type": "code",
   "execution_count": 54,
   "id": "5264bd42",
   "metadata": {
    "_kg_hide-input": true,
    "execution": {
     "iopub.execute_input": "2023-03-28T20:13:03.080276Z",
     "iopub.status.busy": "2023-03-28T20:13:03.079423Z",
     "iopub.status.idle": "2023-03-28T20:13:11.642965Z",
     "shell.execute_reply": "2023-03-28T20:13:11.641979Z",
     "shell.execute_reply.started": "2023-03-28T19:27:36.688387Z"
    },
    "papermill": {
     "duration": 8.608024,
     "end_time": "2023-03-28T20:13:11.643124",
     "exception": false,
     "start_time": "2023-03-28T20:13:03.035100",
     "status": "completed"
    },
    "tags": []
   },
   "outputs": [],
   "source": [
    "# For ML Models\n",
    "import tensorflow as tf\n",
    "from tensorflow import keras\n",
    "from tensorflow.keras.layers import *\n",
    "from tensorflow.keras.losses import *\n",
    "from tensorflow.keras.models import *\n",
    "from tensorflow.keras.metrics import *\n",
    "from tensorflow.keras.optimizers import *\n",
    "from tensorflow.keras.applications import *\n",
    "from tensorflow.keras.callbacks import *\n",
    "from tensorflow.keras.utils import to_categorical\n",
    "from tensorflow.keras.preprocessing.sequence import pad_sequences\n",
    "from tensorflow.keras.preprocessing.text import Tokenizer\n",
    "\n",
    "# For Data Processing\n",
    "import numpy as np\n",
    "import pandas as pd\n",
    "from sklearn.utils import shuffle\n",
    "from sklearn.model_selection import train_test_split\n",
    "from sklearn.metrics import *\n",
    "\n",
    "# For Data Visualization\n",
    "import matplotlib.pyplot as plt\n",
    "import matplotlib\n",
    "import plotly.express as px\n",
    "import plotly.graph_objects as go\n",
    "import seaborn as sns\n",
    "import wordcloud\n",
    "\n",
    "# Miscellaneous\n",
    "from tqdm import tqdm\n",
    "import os\n",
    "import random\n",
    "from IPython import display"
   ]
  },
  {
   "cell_type": "markdown",
   "id": "93bd0926",
   "metadata": {
    "papermill": {
     "duration": 0.027063,
     "end_time": "2023-03-28T20:13:11.698145",
     "exception": false,
     "start_time": "2023-03-28T20:13:11.671082",
     "status": "completed"
    },
    "tags": []
   },
   "source": [
    "# <b>2 <span style='color:#4285f4'>|</span> About the Dataset</b>"
   ]
  },
  {
   "cell_type": "markdown",
   "id": "002e0de8",
   "metadata": {
    "papermill": {
     "duration": 0.027346,
     "end_time": "2023-03-28T20:13:11.753215",
     "exception": false,
     "start_time": "2023-03-28T20:13:11.725869",
     "status": "completed"
    },
    "tags": []
   },
   "source": [
    "<h2>2.1 <span style='color:#4285f4'>|</span> Reading the data</h2>"
   ]
  },
  {
   "cell_type": "code",
   "execution_count": 55,
   "id": "05f3c39a",
   "metadata": {
    "_kg_hide-input": true,
    "execution": {
     "iopub.execute_input": "2023-03-28T20:13:11.814052Z",
     "iopub.status.busy": "2023-03-28T20:13:11.813409Z",
     "iopub.status.idle": "2023-03-28T20:13:12.277322Z",
     "shell.execute_reply": "2023-03-28T20:13:12.277804Z",
     "shell.execute_reply.started": "2023-03-28T19:27:46.752062Z"
    },
    "papermill": {
     "duration": 0.495761,
     "end_time": "2023-03-28T20:13:12.277980",
     "exception": false,
     "start_time": "2023-03-28T20:13:11.782219",
     "status": "completed"
    },
    "tags": []
   },
   "outputs": [
    {
     "data": {
      "text/html": [
       "<div>\n",
       "<style scoped>\n",
       "    .dataframe tbody tr th:only-of-type {\n",
       "        vertical-align: middle;\n",
       "    }\n",
       "\n",
       "    .dataframe tbody tr th {\n",
       "        vertical-align: top;\n",
       "    }\n",
       "\n",
       "    .dataframe thead th {\n",
       "        text-align: right;\n",
       "    }\n",
       "</style>\n",
       "<table border=\"1\" class=\"dataframe\">\n",
       "  <thead>\n",
       "    <tr style=\"text-align: right;\">\n",
       "      <th></th>\n",
       "      <th>text</th>\n",
       "      <th>humor</th>\n",
       "    </tr>\n",
       "  </thead>\n",
       "  <tbody>\n",
       "    <tr>\n",
       "      <th>0</th>\n",
       "      <td>Joe biden rules out 2020 bid: 'guys, i'm not r...</td>\n",
       "      <td>False</td>\n",
       "    </tr>\n",
       "    <tr>\n",
       "      <th>1</th>\n",
       "      <td>Watch: darvish gave hitter whiplash with slow ...</td>\n",
       "      <td>False</td>\n",
       "    </tr>\n",
       "    <tr>\n",
       "      <th>2</th>\n",
       "      <td>What do you call a turtle without its shell? d...</td>\n",
       "      <td>True</td>\n",
       "    </tr>\n",
       "    <tr>\n",
       "      <th>3</th>\n",
       "      <td>5 reasons the 2016 election feels so personal</td>\n",
       "      <td>False</td>\n",
       "    </tr>\n",
       "    <tr>\n",
       "      <th>4</th>\n",
       "      <td>Pasco police shot mexican migrant from behind,...</td>\n",
       "      <td>False</td>\n",
       "    </tr>\n",
       "    <tr>\n",
       "      <th>...</th>\n",
       "      <td>...</td>\n",
       "      <td>...</td>\n",
       "    </tr>\n",
       "    <tr>\n",
       "      <th>199995</th>\n",
       "      <td>Conor maynard seamlessly fits old-school r&amp;b h...</td>\n",
       "      <td>False</td>\n",
       "    </tr>\n",
       "    <tr>\n",
       "      <th>199996</th>\n",
       "      <td>How to you make holy water? you boil the hell ...</td>\n",
       "      <td>True</td>\n",
       "    </tr>\n",
       "    <tr>\n",
       "      <th>199997</th>\n",
       "      <td>How many optometrists does it take to screw in...</td>\n",
       "      <td>True</td>\n",
       "    </tr>\n",
       "    <tr>\n",
       "      <th>199998</th>\n",
       "      <td>Mcdonald's will officially kick off all-day br...</td>\n",
       "      <td>False</td>\n",
       "    </tr>\n",
       "    <tr>\n",
       "      <th>199999</th>\n",
       "      <td>An irish man walks on the street and ignores a...</td>\n",
       "      <td>True</td>\n",
       "    </tr>\n",
       "  </tbody>\n",
       "</table>\n",
       "<p>200000 rows × 2 columns</p>\n",
       "</div>"
      ],
      "text/plain": [
       "                                                     text  humor\n",
       "0       Joe biden rules out 2020 bid: 'guys, i'm not r...  False\n",
       "1       Watch: darvish gave hitter whiplash with slow ...  False\n",
       "2       What do you call a turtle without its shell? d...   True\n",
       "3           5 reasons the 2016 election feels so personal  False\n",
       "4       Pasco police shot mexican migrant from behind,...  False\n",
       "...                                                   ...    ...\n",
       "199995  Conor maynard seamlessly fits old-school r&b h...  False\n",
       "199996  How to you make holy water? you boil the hell ...   True\n",
       "199997  How many optometrists does it take to screw in...   True\n",
       "199998  Mcdonald's will officially kick off all-day br...  False\n",
       "199999  An irish man walks on the street and ignores a...   True\n",
       "\n",
       "[200000 rows x 2 columns]"
      ]
     },
     "execution_count": 55,
     "metadata": {},
     "output_type": "execute_result"
    }
   ],
   "source": [
    "df = pd.read_csv('dataset.csv')\n",
    "df"
   ]
  },
  {
   "cell_type": "markdown",
   "id": "d57775d7",
   "metadata": {
    "papermill": {
     "duration": 0.031462,
     "end_time": "2023-03-28T20:13:12.341895",
     "exception": false,
     "start_time": "2023-03-28T20:13:12.310433",
     "status": "completed"
    },
    "tags": []
   },
   "source": [
    "<h2>2.2 <span style='color:#4285f4'>|</span> Distribution of Humor</h2>"
   ]
  },
  {
   "cell_type": "code",
   "execution_count": 7,
   "id": "91449f5f",
   "metadata": {
    "_kg_hide-input": true,
    "execution": {
     "iopub.execute_input": "2023-03-28T20:13:12.408765Z",
     "iopub.status.busy": "2023-03-28T20:13:12.407792Z",
     "iopub.status.idle": "2023-03-28T20:13:12.537145Z",
     "shell.execute_reply": "2023-03-28T20:13:12.538280Z",
     "shell.execute_reply.started": "2023-03-28T19:27:54.075661Z"
    },
    "papermill": {
     "duration": 0.167635,
     "end_time": "2023-03-28T20:13:12.538565",
     "exception": false,
     "start_time": "2023-03-28T20:13:12.370930",
     "status": "completed"
    },
    "tags": []
   },
   "outputs": [
    {
     "data": {
      "image/png": "[encoded data removed]",
      "text/plain": [
       "<Figure size 640x480 with 1 Axes>"
      ]
     },
     "metadata": {},
     "output_type": "display_data"
    }
   ],
   "source": [
    "plt.rcParams.update({'font.size': 13})\n",
    "label = ['True', 'False']\n",
    "count = [len(df[df['humor']==True]),\n",
    "         len(df[df['humor']==False])]\n",
    "\n",
    "plt.pie(count, labels = label, startangle=-45, explode=[0.1,0], autopct='%.1f%%')\n",
    "plt.show()"
   ]
  },
  {
   "cell_type": "markdown",
   "id": "163582e0",
   "metadata": {
    "papermill": {
     "duration": 0.039711,
     "end_time": "2023-03-28T20:13:12.650793",
     "exception": false,
     "start_time": "2023-03-28T20:13:12.611082",
     "status": "completed"
    },
    "tags": []
   },
   "source": [
    "#### The dataset is perfectly balanced"
   ]
  },
  {
   "cell_type": "markdown",
   "id": "c9b07fda",
   "metadata": {
    "papermill": {
     "duration": 0.028174,
     "end_time": "2023-03-28T20:13:12.707830",
     "exception": false,
     "start_time": "2023-03-28T20:13:12.679656",
     "status": "completed"
    },
    "tags": []
   },
   "source": [
    "<h2>2.3 <span style='color:#4285f4'>|</span> Wordcloud</h2>"
   ]
  },
  {
   "cell_type": "code",
   "execution_count": 8,
   "id": "5f7218cc",
   "metadata": {
    "_kg_hide-input": true,
    "execution": {
     "iopub.execute_input": "2023-03-28T20:13:13.505349Z",
     "iopub.status.busy": "2023-03-28T20:13:12.841539Z",
     "iopub.status.idle": "2023-03-28T20:13:26.202306Z",
     "shell.execute_reply": "2023-03-28T20:13:26.202738Z",
     "shell.execute_reply.started": "2023-03-28T19:27:56.402022Z"
    },
    "papermill": {
     "duration": 13.466777,
     "end_time": "2023-03-28T20:13:26.202910",
     "exception": false,
     "start_time": "2023-03-28T20:13:12.736133",
     "status": "completed"
    },
    "tags": []
   },
   "outputs": [
    {
     "ename": "KeyboardInterrupt",
     "evalue": "",
     "output_type": "error",
     "traceback": [
      "\u001b[1;31m---------------------------------------------------------------------------\u001b[0m",
      "\u001b[1;31mKeyboardInterrupt\u001b[0m                         Traceback (most recent call last)",
      "Cell \u001b[1;32mIn[8], line 3\u001b[0m\n\u001b[0;32m      1\u001b[0m wc \u001b[38;5;241m=\u001b[39m \u001b[43mwordcloud\u001b[49m\u001b[38;5;241;43m.\u001b[39;49m\u001b[43mWordCloud\u001b[49m\u001b[43m(\u001b[49m\u001b[43mstopwords\u001b[49m\u001b[38;5;241;43m=\u001b[39;49m\u001b[43mwordcloud\u001b[49m\u001b[38;5;241;43m.\u001b[39;49m\u001b[43mSTOPWORDS\u001b[49m\u001b[43m,\u001b[49m\u001b[43m \u001b[49m\u001b[43mmax_font_size\u001b[49m\u001b[38;5;241;43m=\u001b[39;49m\u001b[38;5;241;43m80\u001b[39;49m\u001b[43m,\u001b[49m\u001b[43m \u001b[49m\u001b[43mmax_words\u001b[49m\u001b[38;5;241;43m=\u001b[39;49m\u001b[38;5;241;43m5000\u001b[39;49m\u001b[43m,\u001b[49m\n\u001b[0;32m      2\u001b[0m \u001b[43m                      \u001b[49m\u001b[43mwidth\u001b[49m\u001b[43m \u001b[49m\u001b[38;5;241;43m=\u001b[39;49m\u001b[43m \u001b[49m\u001b[38;5;241;43m800\u001b[39;49m\u001b[43m,\u001b[49m\u001b[43m \u001b[49m\u001b[43mheight\u001b[49m\u001b[43m \u001b[49m\u001b[38;5;241;43m=\u001b[39;49m\u001b[43m \u001b[49m\u001b[38;5;241;43m500\u001b[39;49m\u001b[43m,\u001b[49m\n\u001b[1;32m----> 3\u001b[0m \u001b[43m                      \u001b[49m\u001b[43mbackground_color\u001b[49m\u001b[38;5;241;43m=\u001b[39;49m\u001b[38;5;124;43m'\u001b[39;49m\u001b[38;5;124;43m#f0f0f0\u001b[39;49m\u001b[38;5;124;43m'\u001b[39;49m\u001b[43m)\u001b[49m\u001b[38;5;241;43m.\u001b[39;49m\u001b[43mgenerate\u001b[49m\u001b[43m(\u001b[49m\u001b[38;5;124;43m'\u001b[39;49m\u001b[38;5;124;43m \u001b[39;49m\u001b[38;5;124;43m'\u001b[39;49m\u001b[38;5;241;43m.\u001b[39;49m\u001b[43mjoin\u001b[49m\u001b[43m(\u001b[49m\u001b[43mtxt\u001b[49m\u001b[43m \u001b[49m\u001b[38;5;28;43;01mfor\u001b[39;49;00m\u001b[43m \u001b[49m\u001b[43mtxt\u001b[49m\u001b[43m \u001b[49m\u001b[38;5;129;43;01min\u001b[39;49;00m\u001b[43m \u001b[49m\u001b[43mdf\u001b[49m\u001b[43m[\u001b[49m\u001b[38;5;124;43m\"\u001b[39;49m\u001b[38;5;124;43mtext\u001b[39;49m\u001b[38;5;124;43m\"\u001b[39;49m\u001b[43m]\u001b[49m\u001b[43m)\u001b[49m\u001b[43m)\u001b[49m\n\u001b[0;32m      4\u001b[0m fig, ax \u001b[38;5;241m=\u001b[39m plt\u001b[38;5;241m.\u001b[39msubplots(figsize\u001b[38;5;241m=\u001b[39m(\u001b[38;5;241m10\u001b[39m,\u001b[38;5;241m7\u001b[39m))\n\u001b[0;32m      5\u001b[0m ax\u001b[38;5;241m.\u001b[39mimshow(wc, interpolation\u001b[38;5;241m=\u001b[39m\u001b[38;5;124m'\u001b[39m\u001b[38;5;124mbilinear\u001b[39m\u001b[38;5;124m'\u001b[39m)\n",
      "File \u001b[1;32m~\\AppData\\Local\\Packages\\PythonSoftwareFoundation.Python.3.10_qbz5n2kfra8p0\\LocalCache\\local-packages\\Python310\\site-packages\\wordcloud\\wordcloud.py:642\u001b[0m, in \u001b[0;36mWordCloud.generate\u001b[1;34m(self, text)\u001b[0m\n\u001b[0;32m    627\u001b[0m \u001b[38;5;28;01mdef\u001b[39;00m \u001b[38;5;21mgenerate\u001b[39m(\u001b[38;5;28mself\u001b[39m, text):\n\u001b[0;32m    628\u001b[0m \u001b[38;5;250m    \u001b[39m\u001b[38;5;124;03m\"\"\"Generate wordcloud from text.\u001b[39;00m\n\u001b[0;32m    629\u001b[0m \n\u001b[0;32m    630\u001b[0m \u001b[38;5;124;03m    The input \"text\" is expected to be a natural text. If you pass a sorted\u001b[39;00m\n\u001b[1;32m   (...)\u001b[0m\n\u001b[0;32m    640\u001b[0m \u001b[38;5;124;03m    self\u001b[39;00m\n\u001b[0;32m    641\u001b[0m \u001b[38;5;124;03m    \"\"\"\u001b[39;00m\n\u001b[1;32m--> 642\u001b[0m     \u001b[38;5;28;01mreturn\u001b[39;00m \u001b[38;5;28;43mself\u001b[39;49m\u001b[38;5;241;43m.\u001b[39;49m\u001b[43mgenerate_from_text\u001b[49m\u001b[43m(\u001b[49m\u001b[43mtext\u001b[49m\u001b[43m)\u001b[49m\n",
      "File \u001b[1;32m~\\AppData\\Local\\Packages\\PythonSoftwareFoundation.Python.3.10_qbz5n2kfra8p0\\LocalCache\\local-packages\\Python310\\site-packages\\wordcloud\\wordcloud.py:623\u001b[0m, in \u001b[0;36mWordCloud.generate_from_text\u001b[1;34m(self, text)\u001b[0m\n\u001b[0;32m    606\u001b[0m \u001b[38;5;28;01mdef\u001b[39;00m \u001b[38;5;21mgenerate_from_text\u001b[39m(\u001b[38;5;28mself\u001b[39m, text):\n\u001b[0;32m    607\u001b[0m \u001b[38;5;250m    \u001b[39m\u001b[38;5;124;03m\"\"\"Generate wordcloud from text.\u001b[39;00m\n\u001b[0;32m    608\u001b[0m \n\u001b[0;32m    609\u001b[0m \u001b[38;5;124;03m    The input \"text\" is expected to be a natural text. If you pass a sorted\u001b[39;00m\n\u001b[1;32m   (...)\u001b[0m\n\u001b[0;32m    621\u001b[0m \u001b[38;5;124;03m    self\u001b[39;00m\n\u001b[0;32m    622\u001b[0m \u001b[38;5;124;03m    \"\"\"\u001b[39;00m\n\u001b[1;32m--> 623\u001b[0m     words \u001b[38;5;241m=\u001b[39m \u001b[38;5;28;43mself\u001b[39;49m\u001b[38;5;241;43m.\u001b[39;49m\u001b[43mprocess_text\u001b[49m\u001b[43m(\u001b[49m\u001b[43mtext\u001b[49m\u001b[43m)\u001b[49m\n\u001b[0;32m    624\u001b[0m     \u001b[38;5;28mself\u001b[39m\u001b[38;5;241m.\u001b[39mgenerate_from_frequencies(words)\n\u001b[0;32m    625\u001b[0m     \u001b[38;5;28;01mreturn\u001b[39;00m \u001b[38;5;28mself\u001b[39m\n",
      "File \u001b[1;32m~\\AppData\\Local\\Packages\\PythonSoftwareFoundation.Python.3.10_qbz5n2kfra8p0\\LocalCache\\local-packages\\Python310\\site-packages\\wordcloud\\wordcloud.py:598\u001b[0m, in \u001b[0;36mWordCloud.process_text\u001b[1;34m(self, text)\u001b[0m\n\u001b[0;32m    596\u001b[0m stopwords \u001b[38;5;241m=\u001b[39m \u001b[38;5;28mset\u001b[39m([i\u001b[38;5;241m.\u001b[39mlower() \u001b[38;5;28;01mfor\u001b[39;00m i \u001b[38;5;129;01min\u001b[39;00m \u001b[38;5;28mself\u001b[39m\u001b[38;5;241m.\u001b[39mstopwords])\n\u001b[0;32m    597\u001b[0m \u001b[38;5;28;01mif\u001b[39;00m \u001b[38;5;28mself\u001b[39m\u001b[38;5;241m.\u001b[39mcollocations:\n\u001b[1;32m--> 598\u001b[0m     word_counts \u001b[38;5;241m=\u001b[39m \u001b[43munigrams_and_bigrams\u001b[49m\u001b[43m(\u001b[49m\u001b[43mwords\u001b[49m\u001b[43m,\u001b[49m\u001b[43m \u001b[49m\u001b[43mstopwords\u001b[49m\u001b[43m,\u001b[49m\u001b[43m \u001b[49m\u001b[38;5;28;43mself\u001b[39;49m\u001b[38;5;241;43m.\u001b[39;49m\u001b[43mnormalize_plurals\u001b[49m\u001b[43m,\u001b[49m\u001b[43m \u001b[49m\u001b[38;5;28;43mself\u001b[39;49m\u001b[38;5;241;43m.\u001b[39;49m\u001b[43mcollocation_threshold\u001b[49m\u001b[43m)\u001b[49m\n\u001b[0;32m    599\u001b[0m \u001b[38;5;28;01melse\u001b[39;00m:\n\u001b[0;32m    600\u001b[0m     \u001b[38;5;66;03m# remove stopwords\u001b[39;00m\n\u001b[0;32m    601\u001b[0m     words \u001b[38;5;241m=\u001b[39m [word \u001b[38;5;28;01mfor\u001b[39;00m word \u001b[38;5;129;01min\u001b[39;00m words \u001b[38;5;28;01mif\u001b[39;00m word\u001b[38;5;241m.\u001b[39mlower() \u001b[38;5;129;01mnot\u001b[39;00m \u001b[38;5;129;01min\u001b[39;00m stopwords]\n",
      "File \u001b[1;32m~\\AppData\\Local\\Packages\\PythonSoftwareFoundation.Python.3.10_qbz5n2kfra8p0\\LocalCache\\local-packages\\Python310\\site-packages\\wordcloud\\tokenization.py:60\u001b[0m, in \u001b[0;36munigrams_and_bigrams\u001b[1;34m(words, stopwords, normalize_plurals, collocation_threshold)\u001b[0m\n\u001b[0;32m     57\u001b[0m word1 \u001b[38;5;241m=\u001b[39m standard_form[bigram[\u001b[38;5;241m0\u001b[39m]\u001b[38;5;241m.\u001b[39mlower()]\n\u001b[0;32m     58\u001b[0m word2 \u001b[38;5;241m=\u001b[39m standard_form[bigram[\u001b[38;5;241m1\u001b[39m]\u001b[38;5;241m.\u001b[39mlower()]\n\u001b[1;32m---> 60\u001b[0m collocation_score \u001b[38;5;241m=\u001b[39m \u001b[43mscore\u001b[49m\u001b[43m(\u001b[49m\u001b[43mcount\u001b[49m\u001b[43m,\u001b[49m\u001b[43m \u001b[49m\u001b[43morig_counts\u001b[49m\u001b[43m[\u001b[49m\u001b[43mword1\u001b[49m\u001b[43m]\u001b[49m\u001b[43m,\u001b[49m\u001b[43m \u001b[49m\u001b[43morig_counts\u001b[49m\u001b[43m[\u001b[49m\u001b[43mword2\u001b[49m\u001b[43m]\u001b[49m\u001b[43m,\u001b[49m\u001b[43m \u001b[49m\u001b[43mn_words\u001b[49m\u001b[43m)\u001b[49m\n\u001b[0;32m     61\u001b[0m \u001b[38;5;28;01mif\u001b[39;00m collocation_score \u001b[38;5;241m>\u001b[39m collocation_threshold:\n\u001b[0;32m     62\u001b[0m     \u001b[38;5;66;03m# bigram is a collocation\u001b[39;00m\n\u001b[0;32m     63\u001b[0m     \u001b[38;5;66;03m# discount words in unigrams dict. hack because one word might\u001b[39;00m\n\u001b[0;32m     64\u001b[0m     \u001b[38;5;66;03m# appear in multiple collocations at the same time\u001b[39;00m\n\u001b[0;32m     65\u001b[0m     \u001b[38;5;66;03m# (leading to negative counts)\u001b[39;00m\n\u001b[0;32m     66\u001b[0m     counts_unigrams[word1] \u001b[38;5;241m-\u001b[39m\u001b[38;5;241m=\u001b[39m counts_bigrams[bigram_string]\n",
      "File \u001b[1;32m~\\AppData\\Local\\Packages\\PythonSoftwareFoundation.Python.3.10_qbz5n2kfra8p0\\LocalCache\\local-packages\\Python310\\site-packages\\wordcloud\\tokenization.py:26\u001b[0m, in \u001b[0;36mscore\u001b[1;34m(count_bigram, count1, count2, n_words)\u001b[0m\n\u001b[0;32m     24\u001b[0m p1 \u001b[38;5;241m=\u001b[39m c12 \u001b[38;5;241m/\u001b[39m c1\n\u001b[0;32m     25\u001b[0m p2 \u001b[38;5;241m=\u001b[39m (c2 \u001b[38;5;241m-\u001b[39m c12) \u001b[38;5;241m/\u001b[39m (N \u001b[38;5;241m-\u001b[39m c1)\n\u001b[1;32m---> 26\u001b[0m score \u001b[38;5;241m=\u001b[39m (\u001b[43ml\u001b[49m\u001b[43m(\u001b[49m\u001b[43mc12\u001b[49m\u001b[43m,\u001b[49m\u001b[43m \u001b[49m\u001b[43mc1\u001b[49m\u001b[43m,\u001b[49m\u001b[43m \u001b[49m\u001b[43mp\u001b[49m\u001b[43m)\u001b[49m \u001b[38;5;241m+\u001b[39m l(c2 \u001b[38;5;241m-\u001b[39m c12, N \u001b[38;5;241m-\u001b[39m c1, p)\n\u001b[0;32m     27\u001b[0m          \u001b[38;5;241m-\u001b[39m l(c12, c1, p1) \u001b[38;5;241m-\u001b[39m l(c2 \u001b[38;5;241m-\u001b[39m c12, N \u001b[38;5;241m-\u001b[39m c1, p2))\n\u001b[0;32m     28\u001b[0m \u001b[38;5;28;01mreturn\u001b[39;00m \u001b[38;5;241m-\u001b[39m\u001b[38;5;241m2\u001b[39m \u001b[38;5;241m*\u001b[39m score\n",
      "\u001b[1;31mKeyboardInterrupt\u001b[0m: "
     ]
    }
   ],
   "source": [
    "wc = wordcloud.WordCloud(stopwords=wordcloud.STOPWORDS, max_font_size=80, max_words=5000,\n",
    "                      width = 800, height = 500,\n",
    "                      background_color='#f0f0f0').generate(' '.join(txt for txt in df[\"text\"]))\n",
    "fig, ax = plt.subplots(figsize=(10,7))\n",
    "ax.imshow(wc, interpolation='bilinear')\n",
    "ax.set_axis_off()\n",
    "plt.imshow(wc)"
   ]
  },
  {
   "cell_type": "markdown",
   "id": "ce15f271",
   "metadata": {
    "papermill": {
     "duration": 0.037283,
     "end_time": "2023-03-28T20:13:26.277316",
     "exception": false,
     "start_time": "2023-03-28T20:13:26.240033",
     "status": "completed"
    },
    "tags": []
   },
   "source": [
    "# <b>3 <span style='color:#4285f4'>|</span> Data Preprocessing</b>"
   ]
  },
  {
   "cell_type": "markdown",
   "id": "e2d120bd",
   "metadata": {
    "papermill": {
     "duration": 0.037764,
     "end_time": "2023-03-28T20:13:26.352418",
     "exception": false,
     "start_time": "2023-03-28T20:13:26.314654",
     "status": "completed"
    },
    "tags": []
   },
   "source": [
    "<h2>3.1 <span style='color:#4285f4'>|</span> Tokenizer</h2>"
   ]
  },
  {
   "cell_type": "code",
   "execution_count": 9,
   "id": "963051c5",
   "metadata": {
    "execution": {
     "iopub.execute_input": "2023-03-28T20:13:26.447230Z",
     "iopub.status.busy": "2023-03-28T20:13:26.442239Z",
     "iopub.status.idle": "2023-03-28T20:13:30.170000Z",
     "shell.execute_reply": "2023-03-28T20:13:30.169460Z",
     "shell.execute_reply.started": "2023-03-28T19:28:17.663071Z"
    },
    "papermill": {
     "duration": 3.779431,
     "end_time": "2023-03-28T20:13:30.170151",
     "exception": false,
     "start_time": "2023-03-28T20:13:26.390720",
     "status": "completed"
    },
    "tags": []
   },
   "outputs": [],
   "source": [
    "tokenizer = Tokenizer(filters='\"&(),-/:;<=>[\\\\]_`{|}~\\t\\n0123456789',\n",
    "                      lower=True, split=' ')\n",
    "tokenizer.fit_on_texts(np.array(df['text']))\n",
    "vocab_size = len(tokenizer.word_index) + 1"
   ]
  },
  {
   "cell_type": "code",
   "execution_count": 10,
   "id": "ffcbf473",
   "metadata": {
    "_kg_hide-input": true,
    "execution": {
     "iopub.execute_input": "2023-03-28T20:13:30.267542Z",
     "iopub.status.busy": "2023-03-28T20:13:30.257442Z",
     "iopub.status.idle": "2023-03-28T20:13:34.809455Z",
     "shell.execute_reply": "2023-03-28T20:13:34.809859Z",
     "shell.execute_reply.started": "2023-03-28T19:28:28.310629Z"
    },
    "papermill": {
     "duration": 4.602491,
     "end_time": "2023-03-28T20:13:34.810020",
     "exception": false,
     "start_time": "2023-03-28T20:13:30.207529",
     "status": "completed"
    },
    "tags": []
   },
   "outputs": [
    {
     "data": {
      "image/png": "[encoded data removed]",
      "text/plain": [
       "<Figure size 1600x600 with 1 Axes>"
      ]
     },
     "metadata": {},
     "output_type": "display_data"
    }
   ],
   "source": [
    "lengths=[]\n",
    "for x in range(len(df)):\n",
    "    i = df['text'][x]\n",
    "    i = tokenizer.texts_to_sequences([i])\n",
    "    lengths.append(len(i[0]))\n",
    "lengths = np.array(lengths)\n",
    "sns.set(rc={'figure.figsize':(16,6)})\n",
    "fig = sns.histplot(lengths, kde=False, bins=25)\n",
    "plt.xlabel('Length of Sentence (in words)')\n",
    "plt.axvline(x=lengths.mean(),\n",
    "            color='red',ls='--', label=\"mean\")\n",
    "plt.legend(loc='upper right', prop={'size': 12})\n",
    "plt.show(fig)"
   ]
  },
  {
   "cell_type": "markdown",
   "id": "687eda4c",
   "metadata": {
    "papermill": {
     "duration": 0.038616,
     "end_time": "2023-03-28T20:13:34.886913",
     "exception": false,
     "start_time": "2023-03-28T20:13:34.848297",
     "status": "completed"
    },
    "tags": []
   },
   "source": [
    "#### Here I am setting the maximum length of a sentence to be 15 words  "
   ]
  },
  {
   "cell_type": "code",
   "execution_count": 11,
   "id": "aee656bb",
   "metadata": {
    "execution": {
     "iopub.execute_input": "2023-03-28T20:13:34.968976Z",
     "iopub.status.busy": "2023-03-28T20:13:34.968109Z",
     "iopub.status.idle": "2023-03-28T20:13:34.970239Z",
     "shell.execute_reply": "2023-03-28T20:13:34.970605Z",
     "shell.execute_reply.started": "2023-03-28T19:28:35.865601Z"
    },
    "papermill": {
     "duration": 0.045766,
     "end_time": "2023-03-28T20:13:34.970784",
     "exception": false,
     "start_time": "2023-03-28T20:13:34.925018",
     "status": "completed"
    },
    "tags": []
   },
   "outputs": [],
   "source": [
    "maxlen = 15"
   ]
  },
  {
   "cell_type": "markdown",
   "id": "8a591110",
   "metadata": {
    "papermill": {
     "duration": 0.037514,
     "end_time": "2023-03-28T20:13:35.045735",
     "exception": false,
     "start_time": "2023-03-28T20:13:35.008221",
     "status": "completed"
    },
    "tags": []
   },
   "source": [
    "<h2>3.2 <span style='color:#4285f4'>|</span> Encode </h2>"
   ]
  },
  {
   "cell_type": "code",
   "execution_count": 12,
   "id": "29ace9ec",
   "metadata": {
    "execution": {
     "iopub.execute_input": "2023-03-28T20:13:35.128862Z",
     "iopub.status.busy": "2023-03-28T20:13:35.127875Z",
     "iopub.status.idle": "2023-03-28T20:13:39.590058Z",
     "shell.execute_reply": "2023-03-28T20:13:39.589057Z",
     "shell.execute_reply.started": "2023-03-28T19:28:37.845806Z"
    },
    "papermill": {
     "duration": 4.506744,
     "end_time": "2023-03-28T20:13:39.590219",
     "exception": false,
     "start_time": "2023-03-28T20:13:35.083475",
     "status": "completed"
    },
    "tags": []
   },
   "outputs": [],
   "source": [
    "df['humor'] = df['humor'].apply(lambda x: {True:1, False:0}.get(x))\n",
    "texts = np.array(df['text'])\n",
    "texts = tokenizer.texts_to_sequences(texts)\n",
    "for x in range(len(texts)):\n",
    "    if len(texts[x])>maxlen:\n",
    "        texts[x]=texts[x][:maxlen]\n",
    "texts = pad_sequences(texts, maxlen=maxlen, dtype='float', padding='post', value=0.0)\n",
    "texts = np.array(texts)\n",
    "labels = df['humor']\n",
    "labels = np.array([float(j) for j in labels])"
   ]
  },
  {
   "cell_type": "markdown",
   "id": "a2ebd75d",
   "metadata": {
    "papermill": {
     "duration": 0.037673,
     "end_time": "2023-03-28T20:13:39.666871",
     "exception": false,
     "start_time": "2023-03-28T20:13:39.629198",
     "status": "completed"
    },
    "tags": []
   },
   "source": [
    "<h2>3.3 <span style='color:#4285f4'>|</span> Train-Test Split</h2>"
   ]
  },
  {
   "cell_type": "code",
   "execution_count": 13,
   "id": "1982742f",
   "metadata": {
    "execution": {
     "iopub.execute_input": "2023-03-28T20:13:39.750140Z",
     "iopub.status.busy": "2023-03-28T20:13:39.749236Z",
     "iopub.status.idle": "2023-03-28T20:13:39.780924Z",
     "shell.execute_reply": "2023-03-28T20:13:39.780389Z",
     "shell.execute_reply.started": "2023-03-28T19:28:43.695749Z"
    },
    "papermill": {
     "duration": 0.075638,
     "end_time": "2023-03-28T20:13:39.781060",
     "exception": false,
     "start_time": "2023-03-28T20:13:39.705422",
     "status": "completed"
    },
    "tags": []
   },
   "outputs": [],
   "source": [
    "x_train, x_val, y_train, y_val = train_test_split(texts, labels, test_size=0.2, random_state=0)"
   ]
  },
  {
   "cell_type": "markdown",
   "id": "e889dfa5",
   "metadata": {
    "papermill": {
     "duration": 0.038672,
     "end_time": "2023-03-28T20:13:39.858076",
     "exception": false,
     "start_time": "2023-03-28T20:13:39.819404",
     "status": "completed"
    },
    "tags": []
   },
   "source": [
    "# <b>4 <span style='color:#4285f4'>|</span> Model</b>"
   ]
  },
  {
   "cell_type": "markdown",
   "id": "7119bde0",
   "metadata": {
    "papermill": {
     "duration": 0.03769,
     "end_time": "2023-03-28T20:13:39.935106",
     "exception": false,
     "start_time": "2023-03-28T20:13:39.897416",
     "status": "completed"
    },
    "tags": []
   },
   "source": [
    "#### I am using the embedding matrix [glove.twitter.27B.100d.txt](https://www.kaggle.com/mushfirat/glove-pretrained-embeddings?select=glove.twitter.27B.100d.txt) from [Glove Pretrained Embeddings](https://www.kaggle.com/mushfirat/glove-pretrained-embeddings) dataset which I have attached to this notebook"
   ]
  },
  {
   "cell_type": "markdown",
   "id": "a9d3ca8b",
   "metadata": {
    "papermill": {
     "duration": 0.037613,
     "end_time": "2023-03-28T20:13:40.012337",
     "exception": false,
     "start_time": "2023-03-28T20:13:39.974724",
     "status": "completed"
    },
    "tags": []
   },
   "source": [
    "<h2>4.1 <span style='color:#4285f4'>|</span> Load Embedding Matrix</h2>"
   ]
  },
  {
   "cell_type": "markdown",
   "id": "feb3c517",
   "metadata": {
    "papermill": {
     "duration": 0.038997,
     "end_time": "2023-03-28T20:13:49.411052",
     "exception": false,
     "start_time": "2023-03-28T20:13:49.372055",
     "status": "completed"
    },
    "tags": []
   },
   "source": [
    "<h2>4.2 <span style='color:#4285f4'>|</span> Build Model</h2>"
   ]
  },
  {
   "cell_type": "markdown",
   "id": "d1a68dbd",
   "metadata": {
    "papermill": {
     "duration": 0.038263,
     "end_time": "2023-03-28T20:13:49.487854",
     "exception": false,
     "start_time": "2023-03-28T20:13:49.449591",
     "status": "completed"
    },
    "tags": []
   },
   "source": [
    "I have shown how to load the embedding matrix above, and to load these weights to a keras layer, simply mention the `weights` parameter when creating an embedding layer. Like this:\n",
    "```\n",
    "Embedding(vocab_size, embedding_dimension, weights=[embedding_matrix], input_length=maxlen, trainable=True)\n",
    "```\n",
    "But using this pretrained embedding matrix does not give us a better score (Check version 5 of this notebook). So, I am training the embeddings from scratch."
   ]
  },
  {
   "cell_type": "code",
   "execution_count": 16,
   "id": "a8076698",
   "metadata": {
    "_kg_hide-output": true,
    "execution": {
     "iopub.execute_input": "2023-03-28T20:13:49.570307Z",
     "iopub.status.busy": "2023-03-28T20:13:49.569577Z",
     "iopub.status.idle": "2023-03-28T20:13:52.550039Z",
     "shell.execute_reply": "2023-03-28T20:13:52.549350Z",
     "shell.execute_reply.started": "2023-03-28T20:04:15.202969Z"
    },
    "papermill": {
     "duration": 3.024514,
     "end_time": "2023-03-28T20:13:52.550175",
     "exception": false,
     "start_time": "2023-03-28T20:13:49.525661",
     "status": "completed"
    },
    "tags": []
   },
   "outputs": [],
   "source": [
    "model = Sequential()\n",
    "model.add(Input(shape=(maxlen)))\n",
    "model.add(Embedding(vocab_size, 8, input_length=maxlen))\n",
    "model.add(Bidirectional(LSTM(16, activation='relu',dropout=0.15, return_sequences=True), merge_mode='concat'))\n",
    "model.add(TimeDistributed(Dense(16, activation='relu')))\n",
    "model.add(LSTM(64, activation='relu',dropout=0.15, return_sequences=False))\n",
    "model.add(Flatten())\n",
    "model.add(Dense(64, activation='relu'))\n",
    "model.add(Dropout(0.25))\n",
    "model.add(Dense(2, activation='softmax'))"
   ]
  },
  {
   "cell_type": "code",
   "execution_count": 17,
   "id": "8d54d01f",
   "metadata": {
    "_kg_hide-input": true,
    "execution": {
     "iopub.execute_input": "2023-03-28T20:13:52.633486Z",
     "iopub.status.busy": "2023-03-28T20:13:52.631722Z",
     "iopub.status.idle": "2023-03-28T20:13:52.639925Z",
     "shell.execute_reply": "2023-03-28T20:13:52.640356Z",
     "shell.execute_reply.started": "2023-03-28T20:04:16.403525Z"
    },
    "papermill": {
     "duration": 0.05228,
     "end_time": "2023-03-28T20:13:52.640508",
     "exception": false,
     "start_time": "2023-03-28T20:13:52.588228",
     "status": "completed"
    },
    "tags": []
   },
   "outputs": [
    {
     "name": "stdout",
     "output_type": "stream",
     "text": [
      "Model: \"sequential\"\n",
      "_________________________________________________________________\n",
      " Layer (type)                Output Shape              Param #   \n",
      "=================================================================\n",
      " embedding (Embedding)       (None, 15, 8)             892912    \n",
      "                                                                 \n",
      " bidirectional (Bidirectiona  (None, 15, 32)           3200      \n",
      " l)                                                              \n",
      "                                                                 \n",
      " time_distributed (TimeDistr  (None, 15, 16)           528       \n",
      " ibuted)                                                         \n",
      "                                                                 \n",
      " lstm_1 (LSTM)               (None, 64)                20736     \n",
      "                                                                 \n",
      " flatten (Flatten)           (None, 64)                0         \n",
      "                                                                 \n",
      " dense_1 (Dense)             (None, 64)                4160      \n",
      "                                                                 \n",
      " dropout (Dropout)           (None, 64)                0         \n",
      "                                                                 \n",
      " dense_2 (Dense)             (None, 2)                 130       \n",
      "                                                                 \n",
      "=================================================================\n",
      "Total params: 921,666\n",
      "Trainable params: 921,666\n",
      "Non-trainable params: 0\n",
      "_________________________________________________________________\n"
     ]
    }
   ],
   "source": [
    "model.summary()"
   ]
  },
  {
   "cell_type": "code",
   "execution_count": 18,
   "id": "c55a34f3",
   "metadata": {
    "_kg_hide-input": true,
    "execution": {
     "iopub.execute_input": "2023-03-28T20:13:52.722593Z",
     "iopub.status.busy": "2023-03-28T20:13:52.722046Z",
     "iopub.status.idle": "2023-03-28T20:13:53.955179Z",
     "shell.execute_reply": "2023-03-28T20:13:53.954634Z",
     "shell.execute_reply.started": "2023-03-28T20:04:17.617488Z"
    },
    "papermill": {
     "duration": 1.276267,
     "end_time": "2023-03-28T20:13:53.955320",
     "exception": false,
     "start_time": "2023-03-28T20:13:52.679053",
     "status": "completed"
    },
    "tags": []
   },
   "outputs": [
    {
     "name": "stdout",
     "output_type": "stream",
     "text": [
      "You must install pydot (`pip install pydot`) and install graphviz (see instructions at https://graphviz.gitlab.io/download/) for plot_model to work.\n"
     ]
    }
   ],
   "source": [
    "tf.keras.utils.plot_model(model, show_shapes=True)"
   ]
  },
  {
   "cell_type": "code",
   "execution_count": 19,
   "id": "9cf22136",
   "metadata": {
    "execution": {
     "iopub.execute_input": "2023-03-28T20:13:54.049992Z",
     "iopub.status.busy": "2023-03-28T20:13:54.048074Z",
     "iopub.status.idle": "2023-03-28T20:13:54.056224Z",
     "shell.execute_reply": "2023-03-28T20:13:54.055664Z",
     "shell.execute_reply.started": "2023-03-28T20:04:20.948396Z"
    },
    "papermill": {
     "duration": 0.060277,
     "end_time": "2023-03-28T20:13:54.056351",
     "exception": false,
     "start_time": "2023-03-28T20:13:53.996074",
     "status": "completed"
    },
    "tags": []
   },
   "outputs": [],
   "source": [
    "model.compile(optimizer=Adam(learning_rate=0.0001),\n",
    "              loss='sparse_categorical_crossentropy',\n",
    "             metrics=['sparse_categorical_accuracy'])"
   ]
  },
  {
   "cell_type": "markdown",
   "id": "dac22afc",
   "metadata": {
    "papermill": {
     "duration": 0.040659,
     "end_time": "2023-03-28T20:13:54.137573",
     "exception": false,
     "start_time": "2023-03-28T20:13:54.096914",
     "status": "completed"
    },
    "tags": []
   },
   "source": [
    "<h2>4.3 <span style='color:#4285f4'>|</span> Train Model</h2>"
   ]
  },
  {
   "cell_type": "code",
   "execution_count": 56,
   "id": "050e8290",
   "metadata": {
    "_kg_hide-output": true,
    "execution": {
     "iopub.execute_input": "2023-03-28T20:13:54.223815Z",
     "iopub.status.busy": "2023-03-28T20:13:54.222972Z",
     "iopub.status.idle": "2023-03-28T20:15:11.427278Z",
     "shell.execute_reply": "2023-03-28T20:15:11.426791Z",
     "shell.execute_reply.started": "2023-03-28T20:04:33.382574Z"
    },
    "papermill": {
     "duration": 77.250033,
     "end_time": "2023-03-28T20:15:11.427423",
     "exception": false,
     "start_time": "2023-03-28T20:13:54.177390",
     "status": "completed"
    },
    "tags": []
   },
   "outputs": [
    {
     "name": "stdout",
     "output_type": "stream",
     "text": [
      "Epoch 1/30\n",
      "20/20 [==============================] - ETA: 0s - loss: 0.0273 - sparse_categorical_accuracy: 0.9910\n",
      "Epoch 1: val_sparse_categorical_accuracy improved from -inf to 0.95267, saving model to model.h5\n",
      "20/20 [==============================] - 22s 1s/step - loss: 0.0273 - sparse_categorical_accuracy: 0.9910 - val_loss: 0.1676 - val_sparse_categorical_accuracy: 0.9527\n",
      "Epoch 2/30\n",
      "20/20 [==============================] - ETA: 0s - loss: 0.0266 - sparse_categorical_accuracy: 0.9912\n",
      "Epoch 2: val_sparse_categorical_accuracy improved from 0.95267 to 0.95270, saving model to model.h5\n",
      "20/20 [==============================] - 27s 1s/step - loss: 0.0266 - sparse_categorical_accuracy: 0.9912 - val_loss: 0.1699 - val_sparse_categorical_accuracy: 0.9527\n",
      "Epoch 3/30\n",
      "20/20 [==============================] - ETA: 0s - loss: 0.0260 - sparse_categorical_accuracy: 0.9917\n",
      "Epoch 3: val_sparse_categorical_accuracy improved from 0.95270 to 0.95283, saving model to model.h5\n",
      "20/20 [==============================] - 25s 1s/step - loss: 0.0260 - sparse_categorical_accuracy: 0.9917 - val_loss: 0.1683 - val_sparse_categorical_accuracy: 0.9528\n",
      "Epoch 4/30\n",
      "20/20 [==============================] - ETA: 0s - loss: 0.0254 - sparse_categorical_accuracy: 0.9917\n",
      "Epoch 4: val_sparse_categorical_accuracy did not improve from 0.95283\n",
      "20/20 [==============================] - 19s 936ms/step - loss: 0.0254 - sparse_categorical_accuracy: 0.9917 - val_loss: 0.1730 - val_sparse_categorical_accuracy: 0.9527\n",
      "Epoch 5/30\n",
      "20/20 [==============================] - ETA: 0s - loss: 0.0254 - sparse_categorical_accuracy: 0.9917\n",
      "Epoch 5: val_sparse_categorical_accuracy did not improve from 0.95283\n",
      "20/20 [==============================] - 17s 852ms/step - loss: 0.0254 - sparse_categorical_accuracy: 0.9917 - val_loss: 0.1727 - val_sparse_categorical_accuracy: 0.9522\n",
      "Epoch 6/30\n",
      "20/20 [==============================] - ETA: 0s - loss: 0.0251 - sparse_categorical_accuracy: 0.9919\n",
      "Epoch 6: val_sparse_categorical_accuracy did not improve from 0.95283\n",
      "20/20 [==============================] - 17s 857ms/step - loss: 0.0251 - sparse_categorical_accuracy: 0.9919 - val_loss: 0.1709 - val_sparse_categorical_accuracy: 0.9527\n",
      "Epoch 7/30\n",
      "20/20 [==============================] - ETA: 0s - loss: 0.0245 - sparse_categorical_accuracy: 0.9920\n",
      "Epoch 7: val_sparse_categorical_accuracy did not improve from 0.95283\n",
      "20/20 [==============================] - 18s 926ms/step - loss: 0.0245 - sparse_categorical_accuracy: 0.9920 - val_loss: 0.1730 - val_sparse_categorical_accuracy: 0.9525\n",
      "Epoch 8/30\n",
      "20/20 [==============================] - ETA: 0s - loss: 0.0238 - sparse_categorical_accuracy: 0.9923\n",
      "Epoch 8: val_sparse_categorical_accuracy did not improve from 0.95283\n",
      "20/20 [==============================] - 20s 1s/step - loss: 0.0238 - sparse_categorical_accuracy: 0.9923 - val_loss: 0.1747 - val_sparse_categorical_accuracy: 0.9522\n",
      "Epoch 9/30\n",
      "20/20 [==============================] - ETA: 0s - loss: 0.0235 - sparse_categorical_accuracy: 0.9925\n",
      "Epoch 9: val_sparse_categorical_accuracy did not improve from 0.95283\n",
      "20/20 [==============================] - 17s 839ms/step - loss: 0.0235 - sparse_categorical_accuracy: 0.9925 - val_loss: 0.1762 - val_sparse_categorical_accuracy: 0.9524\n",
      "Epoch 10/30\n",
      "20/20 [==============================] - ETA: 0s - loss: 0.0233 - sparse_categorical_accuracy: 0.9924\n",
      "Epoch 10: val_sparse_categorical_accuracy did not improve from 0.95283\n",
      "20/20 [==============================] - 17s 838ms/step - loss: 0.0233 - sparse_categorical_accuracy: 0.9924 - val_loss: 0.1776 - val_sparse_categorical_accuracy: 0.9521\n",
      "Epoch 11/30\n",
      "20/20 [==============================] - ETA: 0s - loss: 0.0227 - sparse_categorical_accuracy: 0.9925\n",
      "Epoch 11: val_sparse_categorical_accuracy did not improve from 0.95283\n",
      "20/20 [==============================] - 16s 818ms/step - loss: 0.0227 - sparse_categorical_accuracy: 0.9925 - val_loss: 0.1804 - val_sparse_categorical_accuracy: 0.9520\n",
      "Epoch 12/30\n",
      "20/20 [==============================] - ETA: 0s - loss: 0.0223 - sparse_categorical_accuracy: 0.9928\n",
      "Epoch 12: val_sparse_categorical_accuracy did not improve from 0.95283\n",
      "20/20 [==============================] - 17s 849ms/step - loss: 0.0223 - sparse_categorical_accuracy: 0.9928 - val_loss: 0.1782 - val_sparse_categorical_accuracy: 0.9522\n",
      "Epoch 13/30\n",
      "20/20 [==============================] - ETA: 0s - loss: 0.0216 - sparse_categorical_accuracy: 0.9930\n",
      "Epoch 13: val_sparse_categorical_accuracy did not improve from 0.95283\n",
      "20/20 [==============================] - 20s 1s/step - loss: 0.0216 - sparse_categorical_accuracy: 0.9930 - val_loss: 0.1843 - val_sparse_categorical_accuracy: 0.9520\n",
      "Epoch 14/30\n",
      "20/20 [==============================] - ETA: 0s - loss: 0.0217 - sparse_categorical_accuracy: 0.9931\n",
      "Epoch 14: val_sparse_categorical_accuracy did not improve from 0.95283\n",
      "20/20 [==============================] - 18s 922ms/step - loss: 0.0217 - sparse_categorical_accuracy: 0.9931 - val_loss: 0.1832 - val_sparse_categorical_accuracy: 0.9515\n",
      "Epoch 15/30\n",
      "20/20 [==============================] - ETA: 0s - loss: 0.0214 - sparse_categorical_accuracy: 0.9931\n",
      "Epoch 15: val_sparse_categorical_accuracy did not improve from 0.95283\n",
      "20/20 [==============================] - 18s 902ms/step - loss: 0.0214 - sparse_categorical_accuracy: 0.9931 - val_loss: 0.1817 - val_sparse_categorical_accuracy: 0.9519\n",
      "Epoch 16/30\n",
      "20/20 [==============================] - ETA: 0s - loss: 0.0199 - sparse_categorical_accuracy: 0.9934\n",
      "Epoch 16: val_sparse_categorical_accuracy did not improve from 0.95283\n",
      "20/20 [==============================] - 17s 845ms/step - loss: 0.0199 - sparse_categorical_accuracy: 0.9934 - val_loss: 0.1906 - val_sparse_categorical_accuracy: 0.9520\n",
      "Epoch 17/30\n",
      "20/20 [==============================] - ETA: 0s - loss: 0.0211 - sparse_categorical_accuracy: 0.9930\n",
      "Epoch 17: val_sparse_categorical_accuracy did not improve from 0.95283\n",
      "20/20 [==============================] - 17s 836ms/step - loss: 0.0211 - sparse_categorical_accuracy: 0.9930 - val_loss: 0.1829 - val_sparse_categorical_accuracy: 0.9514\n",
      "Epoch 18/30\n",
      "20/20 [==============================] - ETA: 0s - loss: 0.0205 - sparse_categorical_accuracy: 0.9934\n",
      "Epoch 18: val_sparse_categorical_accuracy did not improve from 0.95283\n",
      "20/20 [==============================] - 18s 890ms/step - loss: 0.0205 - sparse_categorical_accuracy: 0.9934 - val_loss: 0.1862 - val_sparse_categorical_accuracy: 0.9517\n",
      "Epoch 19/30\n",
      "20/20 [==============================] - ETA: 0s - loss: 0.0192 - sparse_categorical_accuracy: 0.9937\n",
      "Epoch 19: val_sparse_categorical_accuracy did not improve from 0.95283\n",
      "20/20 [==============================] - 21s 1s/step - loss: 0.0192 - sparse_categorical_accuracy: 0.9937 - val_loss: 0.1944 - val_sparse_categorical_accuracy: 0.9513\n",
      "Epoch 20/30\n",
      " 5/20 [======>.......................] - ETA: 15s - loss: 0.0185 - sparse_categorical_accuracy: 0.9939"
     ]
    }
   ],
   "source": [
    "epochs = 30\n",
    "mc = ModelCheckpoint('model.h5', monitor='val_sparse_categorical_accuracy', mode='max', verbose=1, save_best_only=True)\n",
    "history = model.fit(x_train, y_train, epochs=epochs, batch_size=8192, validation_data=(x_val, y_val), callbacks=[mc])\n"
   ]
  },
  {
   "cell_type": "code",
   "execution_count": 53,
   "id": "8efacab7",
   "metadata": {},
   "outputs": [],
   "source": [
    "model.save('model.keras')"
   ]
  },
  {
   "cell_type": "code",
   "execution_count": 27,
   "id": "a4db8ec8",
   "metadata": {
    "_kg_hide-input": true,
    "execution": {
     "iopub.execute_input": "2023-03-28T20:15:11.958996Z",
     "iopub.status.busy": "2023-03-28T20:15:11.958209Z",
     "iopub.status.idle": "2023-03-28T20:15:12.097556Z",
     "shell.execute_reply": "2023-03-28T20:15:12.098542Z",
     "shell.execute_reply.started": "2023-03-28T20:06:14.819500Z"
    },
    "papermill": {
     "duration": 0.434382,
     "end_time": "2023-03-28T20:15:12.098785",
     "exception": false,
     "start_time": "2023-03-28T20:15:11.664403",
     "status": "completed"
    },
    "tags": []
   },
   "outputs": [
    {
     "data": {
      "application/vnd.plotly.v1+json": {
       "config": {
        "plotlyServerURL": "https://plot.ly"
       },
       "data": [
        {
         "mode": "lines+markers",
         "name": "Train Accuracy",
         "type": "scatter",
         "y": [
          0.5339000225067139,
          0.6276312470436096,
          0.6754312515258789,
          0.7062312364578247,
          0.7246875166893005,
          0.7550562620162964,
          0.793681263923645,
          0.836831271648407,
          0.874093770980835,
          0.9005812406539917,
          0.9169687628746033,
          0.9276062250137329,
          0.9345062375068665,
          0.9400437474250793,
          0.9434312582015991,
          0.9477687478065491,
          0.9506624937057495,
          0.9539499878883362,
          0.9555624723434448,
          0.958706259727478,
          0.9607750177383423,
          0.9626562595367432,
          0.9642999768257141,
          0.9664124846458435,
          0.9678124785423279,
          0.9685124754905701,
          0.9708937406539917,
          0.9715999960899353,
          0.9728000164031982,
          0.9738937616348267
         ]
        },
        {
         "mode": "lines+markers",
         "name": "Val Accuracy",
         "type": "scatter",
         "y": [
          0.6950749754905701,
          0.6996999979019165,
          0.7177249789237976,
          0.7317000031471252,
          0.7514749765396118,
          0.7827500104904175,
          0.8215000033378601,
          0.862375020980835,
          0.8951500058174133,
          0.9140250086784363,
          0.9234750270843506,
          0.9297500252723694,
          0.9336000084877014,
          0.9365000128746033,
          0.9388250112533569,
          0.940750002861023,
          0.9428750276565552,
          0.9443249702453613,
          0.9453499913215637,
          0.9462249875068665,
          0.9470499753952026,
          0.947950005531311,
          0.9491249918937683,
          0.9501500129699707,
          0.9507750272750854,
          0.9511500000953674,
          0.9520249962806702,
          0.9518499970436096,
          0.9524999856948853,
          0.9524250030517578
         ]
        }
       ],
       "layout": {
        "template": {
         "data": {
          "bar": [
           {
            "error_x": {
             "color": "#2a3f5f"
            },
            "error_y": {
             "color": "#2a3f5f"
            },
            "marker": {
             "line": {
              "color": "#E5ECF6",
              "width": 0.5
             },
             "pattern": {
              "fillmode": "overlay",
              "size": 10,
              "solidity": 0.2
             }
            },
            "type": "bar"
           }
          ],
          "barpolar": [
           {
            "marker": {
             "line": {
              "color": "#E5ECF6",
              "width": 0.5
             },
             "pattern": {
              "fillmode": "overlay",
              "size": 10,
              "solidity": 0.2
             }
            },
            "type": "barpolar"
           }
          ],
          "carpet": [
           {
            "aaxis": {
             "endlinecolor": "#2a3f5f",
             "gridcolor": "white",
             "linecolor": "white",
             "minorgridcolor": "white",
             "startlinecolor": "#2a3f5f"
            },
            "baxis": {
             "endlinecolor": "#2a3f5f",
             "gridcolor": "white",
             "linecolor": "white",
             "minorgridcolor": "white",
             "startlinecolor": "#2a3f5f"
            },
            "type": "carpet"
           }
          ],
          "choropleth": [
           {
            "colorbar": {
             "outlinewidth": 0,
             "ticks": ""
            },
            "type": "choropleth"
           }
          ],
          "contour": [
           {
            "colorbar": {
             "outlinewidth": 0,
             "ticks": ""
            },
            "colorscale": [
             [
              0,
              "#0d0887"
             ],
             [
              0.1111111111111111,
              "#46039f"
             ],
             [
              0.2222222222222222,
              "#7201a8"
             ],
             [
              0.3333333333333333,
              "#9c179e"
             ],
             [
              0.4444444444444444,
              "#bd3786"
             ],
             [
              0.5555555555555556,
              "#d8576b"
             ],
             [
              0.6666666666666666,
              "#ed7953"
             ],
             [
              0.7777777777777778,
              "#fb9f3a"
             ],
             [
              0.8888888888888888,
              "#fdca26"
             ],
             [
              1,
              "#f0f921"
             ]
            ],
            "type": "contour"
           }
          ],
          "contourcarpet": [
           {
            "colorbar": {
             "outlinewidth": 0,
             "ticks": ""
            },
            "type": "contourcarpet"
           }
          ],
          "heatmap": [
           {
            "colorbar": {
             "outlinewidth": 0,
             "ticks": ""
            },
            "colorscale": [
             [
              0,
              "#0d0887"
             ],
             [
              0.1111111111111111,
              "#46039f"
             ],
             [
              0.2222222222222222,
              "#7201a8"
             ],
             [
              0.3333333333333333,
              "#9c179e"
             ],
             [
              0.4444444444444444,
              "#bd3786"
             ],
             [
              0.5555555555555556,
              "#d8576b"
             ],
             [
              0.6666666666666666,
              "#ed7953"
             ],
             [
              0.7777777777777778,
              "#fb9f3a"
             ],
             [
              0.8888888888888888,
              "#fdca26"
             ],
             [
              1,
              "#f0f921"
             ]
            ],
            "type": "heatmap"
           }
          ],
          "heatmapgl": [
           {
            "colorbar": {
             "outlinewidth": 0,
             "ticks": ""
            },
            "colorscale": [
             [
              0,
              "#0d0887"
             ],
             [
              0.1111111111111111,
              "#46039f"
             ],
             [
              0.2222222222222222,
              "#7201a8"
             ],
             [
              0.3333333333333333,
              "#9c179e"
             ],
             [
              0.4444444444444444,
              "#bd3786"
             ],
             [
              0.5555555555555556,
              "#d8576b"
             ],
             [
              0.6666666666666666,
              "#ed7953"
             ],
             [
              0.7777777777777778,
              "#fb9f3a"
             ],
             [
              0.8888888888888888,
              "#fdca26"
             ],
             [
              1,
              "#f0f921"
             ]
            ],
            "type": "heatmapgl"
           }
          ],
          "histogram": [
           {
            "marker": {
             "pattern": {
              "fillmode": "overlay",
              "size": 10,
              "solidity": 0.2
             }
            },
            "type": "histogram"
           }
          ],
          "histogram2d": [
           {
            "colorbar": {
             "outlinewidth": 0,
             "ticks": ""
            },
            "colorscale": [
             [
              0,
              "#0d0887"
             ],
             [
              0.1111111111111111,
              "#46039f"
             ],
             [
              0.2222222222222222,
              "#7201a8"
             ],
             [
              0.3333333333333333,
              "#9c179e"
             ],
             [
              0.4444444444444444,
              "#bd3786"
             ],
             [
              0.5555555555555556,
              "#d8576b"
             ],
             [
              0.6666666666666666,
              "#ed7953"
             ],
             [
              0.7777777777777778,
              "#fb9f3a"
             ],
             [
              0.8888888888888888,
              "#fdca26"
             ],
             [
              1,
              "#f0f921"
             ]
            ],
            "type": "histogram2d"
           }
          ],
          "histogram2dcontour": [
           {
            "colorbar": {
             "outlinewidth": 0,
             "ticks": ""
            },
            "colorscale": [
             [
              0,
              "#0d0887"
             ],
             [
              0.1111111111111111,
              "#46039f"
             ],
             [
              0.2222222222222222,
              "#7201a8"
             ],
             [
              0.3333333333333333,
              "#9c179e"
             ],
             [
              0.4444444444444444,
              "#bd3786"
             ],
             [
              0.5555555555555556,
              "#d8576b"
             ],
             [
              0.6666666666666666,
              "#ed7953"
             ],
             [
              0.7777777777777778,
              "#fb9f3a"
             ],
             [
              0.8888888888888888,
              "#fdca26"
             ],
             [
              1,
              "#f0f921"
             ]
            ],
            "type": "histogram2dcontour"
           }
          ],
          "mesh3d": [
           {
            "colorbar": {
             "outlinewidth": 0,
             "ticks": ""
            },
            "type": "mesh3d"
           }
          ],
          "parcoords": [
           {
            "line": {
             "colorbar": {
              "outlinewidth": 0,
              "ticks": ""
             }
            },
            "type": "parcoords"
           }
          ],
          "pie": [
           {
            "automargin": true,
            "type": "pie"
           }
          ],
          "scatter": [
           {
            "fillpattern": {
             "fillmode": "overlay",
             "size": 10,
             "solidity": 0.2
            },
            "type": "scatter"
           }
          ],
          "scatter3d": [
           {
            "line": {
             "colorbar": {
              "outlinewidth": 0,
              "ticks": ""
             }
            },
            "marker": {
             "colorbar": {
              "outlinewidth": 0,
              "ticks": ""
             }
            },
            "type": "scatter3d"
           }
          ],
          "scattercarpet": [
           {
            "marker": {
             "colorbar": {
              "outlinewidth": 0,
              "ticks": ""
             }
            },
            "type": "scattercarpet"
           }
          ],
          "scattergeo": [
           {
            "marker": {
             "colorbar": {
              "outlinewidth": 0,
              "ticks": ""
             }
            },
            "type": "scattergeo"
           }
          ],
          "scattergl": [
           {
            "marker": {
             "colorbar": {
              "outlinewidth": 0,
              "ticks": ""
             }
            },
            "type": "scattergl"
           }
          ],
          "scattermapbox": [
           {
            "marker": {
             "colorbar": {
              "outlinewidth": 0,
              "ticks": ""
             }
            },
            "type": "scattermapbox"
           }
          ],
          "scatterpolar": [
           {
            "marker": {
             "colorbar": {
              "outlinewidth": 0,
              "ticks": ""
             }
            },
            "type": "scatterpolar"
           }
          ],
          "scatterpolargl": [
           {
            "marker": {
             "colorbar": {
              "outlinewidth": 0,
              "ticks": ""
             }
            },
            "type": "scatterpolargl"
           }
          ],
          "scatterternary": [
           {
            "marker": {
             "colorbar": {
              "outlinewidth": 0,
              "ticks": ""
             }
            },
            "type": "scatterternary"
           }
          ],
          "surface": [
           {
            "colorbar": {
             "outlinewidth": 0,
             "ticks": ""
            },
            "colorscale": [
             [
              0,
              "#0d0887"
             ],
             [
              0.1111111111111111,
              "#46039f"
             ],
             [
              0.2222222222222222,
              "#7201a8"
             ],
             [
              0.3333333333333333,
              "#9c179e"
             ],
             [
              0.4444444444444444,
              "#bd3786"
             ],
             [
              0.5555555555555556,
              "#d8576b"
             ],
             [
              0.6666666666666666,
              "#ed7953"
             ],
             [
              0.7777777777777778,
              "#fb9f3a"
             ],
             [
              0.8888888888888888,
              "#fdca26"
             ],
             [
              1,
              "#f0f921"
             ]
            ],
            "type": "surface"
           }
          ],
          "table": [
           {
            "cells": {
             "fill": {
              "color": "#EBF0F8"
             },
             "line": {
              "color": "white"
             }
            },
            "header": {
             "fill": {
              "color": "#C8D4E3"
             },
             "line": {
              "color": "white"
             }
            },
            "type": "table"
           }
          ]
         },
         "layout": {
          "annotationdefaults": {
           "arrowcolor": "#2a3f5f",
           "arrowhead": 0,
           "arrowwidth": 1
          },
          "autotypenumbers": "strict",
          "coloraxis": {
           "colorbar": {
            "outlinewidth": 0,
            "ticks": ""
           }
          },
          "colorscale": {
           "diverging": [
            [
             0,
             "#8e0152"
            ],
            [
             0.1,
             "#c51b7d"
            ],
            [
             0.2,
             "#de77ae"
            ],
            [
             0.3,
             "#f1b6da"
            ],
            [
             0.4,
             "#fde0ef"
            ],
            [
             0.5,
             "#f7f7f7"
            ],
            [
             0.6,
             "#e6f5d0"
            ],
            [
             0.7,
             "#b8e186"
            ],
            [
             0.8,
             "#7fbc41"
            ],
            [
             0.9,
             "#4d9221"
            ],
            [
             1,
             "#276419"
            ]
           ],
           "sequential": [
            [
             0,
             "#0d0887"
            ],
            [
             0.1111111111111111,
             "#46039f"
            ],
            [
             0.2222222222222222,
             "#7201a8"
            ],
            [
             0.3333333333333333,
             "#9c179e"
            ],
            [
             0.4444444444444444,
             "#bd3786"
            ],
            [
             0.5555555555555556,
             "#d8576b"
            ],
            [
             0.6666666666666666,
             "#ed7953"
            ],
            [
             0.7777777777777778,
             "#fb9f3a"
            ],
            [
             0.8888888888888888,
             "#fdca26"
            ],
            [
             1,
             "#f0f921"
            ]
           ],
           "sequentialminus": [
            [
             0,
             "#0d0887"
            ],
            [
             0.1111111111111111,
             "#46039f"
            ],
            [
             0.2222222222222222,
             "#7201a8"
            ],
            [
             0.3333333333333333,
             "#9c179e"
            ],
            [
             0.4444444444444444,
             "#bd3786"
            ],
            [
             0.5555555555555556,
             "#d8576b"
            ],
            [
             0.6666666666666666,
             "#ed7953"
            ],
            [
             0.7777777777777778,
             "#fb9f3a"
            ],
            [
             0.8888888888888888,
             "#fdca26"
            ],
            [
             1,
             "#f0f921"
            ]
           ]
          },
          "colorway": [
           "#636efa",
           "#EF553B",
           "#00cc96",
           "#ab63fa",
           "#FFA15A",
           "#19d3f3",
           "#FF6692",
           "#B6E880",
           "#FF97FF",
           "#FECB52"
          ],
          "font": {
           "color": "#2a3f5f"
          },
          "geo": {
           "bgcolor": "white",
           "lakecolor": "white",
           "landcolor": "#E5ECF6",
           "showlakes": true,
           "showland": true,
           "subunitcolor": "white"
          },
          "hoverlabel": {
           "align": "left"
          },
          "hovermode": "closest",
          "mapbox": {
           "style": "light"
          },
          "paper_bgcolor": "white",
          "plot_bgcolor": "#E5ECF6",
          "polar": {
           "angularaxis": {
            "gridcolor": "white",
            "linecolor": "white",
            "ticks": ""
           },
           "bgcolor": "#E5ECF6",
           "radialaxis": {
            "gridcolor": "white",
            "linecolor": "white",
            "ticks": ""
           }
          },
          "scene": {
           "xaxis": {
            "backgroundcolor": "#E5ECF6",
            "gridcolor": "white",
            "gridwidth": 2,
            "linecolor": "white",
            "showbackground": true,
            "ticks": "",
            "zerolinecolor": "white"
           },
           "yaxis": {
            "backgroundcolor": "#E5ECF6",
            "gridcolor": "white",
            "gridwidth": 2,
            "linecolor": "white",
            "showbackground": true,
            "ticks": "",
            "zerolinecolor": "white"
           },
           "zaxis": {
            "backgroundcolor": "#E5ECF6",
            "gridcolor": "white",
            "gridwidth": 2,
            "linecolor": "white",
            "showbackground": true,
            "ticks": "",
            "zerolinecolor": "white"
           }
          },
          "shapedefaults": {
           "line": {
            "color": "#2a3f5f"
           }
          },
          "ternary": {
           "aaxis": {
            "gridcolor": "white",
            "linecolor": "white",
            "ticks": ""
           },
           "baxis": {
            "gridcolor": "white",
            "linecolor": "white",
            "ticks": ""
           },
           "bgcolor": "#E5ECF6",
           "caxis": {
            "gridcolor": "white",
            "linecolor": "white",
            "ticks": ""
           }
          },
          "title": {
           "x": 0.05
          },
          "xaxis": {
           "automargin": true,
           "gridcolor": "white",
           "linecolor": "white",
           "ticks": "",
           "title": {
            "standoff": 15
           },
           "zerolinecolor": "white",
           "zerolinewidth": 2
          },
          "yaxis": {
           "automargin": true,
           "gridcolor": "white",
           "linecolor": "white",
           "ticks": "",
           "title": {
            "standoff": 15
           },
           "zerolinecolor": "white",
           "zerolinewidth": 2
          }
         }
        },
        "xaxis": {
         "dtick": 1,
         "tick0": 0,
         "tickmode": "linear",
         "title": {
          "text": "Epochs"
         }
        },
        "yaxis": {
         "title": {
          "text": "Accuracy"
         }
        }
       }
      }
     },
     "metadata": {},
     "output_type": "display_data"
    },
    {
     "data": {
      "application/vnd.plotly.v1+json": {
       "config": {
        "plotlyServerURL": "https://plot.ly"
       },
       "data": [
        {
         "mode": "lines+markers",
         "name": "Train Loss",
         "type": "scatter",
         "y": [
          0.6930294632911682,
          0.6925936937332153,
          0.6918060183525085,
          0.6901795268058777,
          0.6864880919456482,
          0.6774824261665344,
          0.656178891658783,
          0.6076455116271973,
          0.5071243047714233,
          0.33965378999710083,
          0.22638750076293945,
          0.19678473472595215,
          0.1799343079328537,
          0.1663336604833603,
          0.1553417593240738,
          0.14500264823436737,
          0.1363896131515503,
          0.12890547513961792,
          0.12325013428926468,
          0.11603972315788269,
          0.11058654636144638,
          0.10519254207611084,
          0.10013440251350403,
          0.09580182284116745,
          0.09175162017345428,
          0.08796950429677963,
          0.08351211249828339,
          0.08097279816865921,
          0.07815764099359512,
          0.07489486038684845
         ]
        },
        {
         "mode": "lines+markers",
         "name": "Val Loss",
         "type": "scatter",
         "y": [
          0.6928069591522217,
          0.6921986937522888,
          0.6909515261650085,
          0.688361406326294,
          0.6821485161781311,
          0.6676467657089233,
          0.6342158317565918,
          0.5611170530319214,
          0.41945990920066833,
          0.24063485860824585,
          0.20321394503116608,
          0.18703286349773407,
          0.17612719535827637,
          0.16794365644454956,
          0.1606125682592392,
          0.1553211808204651,
          0.15027549862861633,
          0.14672085642814636,
          0.1426573544740677,
          0.1404457539319992,
          0.13884732127189636,
          0.13587458431720734,
          0.13417918980121613,
          0.13359904289245605,
          0.13185758888721466,
          0.13138911128044128,
          0.13082002103328705,
          0.13028566539287567,
          0.12960141897201538,
          0.13064268231391907
         ]
        }
       ],
       "layout": {
        "template": {
         "data": {
          "bar": [
           {
            "error_x": {
             "color": "#2a3f5f"
            },
            "error_y": {
             "color": "#2a3f5f"
            },
            "marker": {
             "line": {
              "color": "#E5ECF6",
              "width": 0.5
             },
             "pattern": {
              "fillmode": "overlay",
              "size": 10,
              "solidity": 0.2
             }
            },
            "type": "bar"
           }
          ],
          "barpolar": [
           {
            "marker": {
             "line": {
              "color": "#E5ECF6",
              "width": 0.5
             },
             "pattern": {
              "fillmode": "overlay",
              "size": 10,
              "solidity": 0.2
             }
            },
            "type": "barpolar"
           }
          ],
          "carpet": [
           {
            "aaxis": {
             "endlinecolor": "#2a3f5f",
             "gridcolor": "white",
             "linecolor": "white",
             "minorgridcolor": "white",
             "startlinecolor": "#2a3f5f"
            },
            "baxis": {
             "endlinecolor": "#2a3f5f",
             "gridcolor": "white",
             "linecolor": "white",
             "minorgridcolor": "white",
             "startlinecolor": "#2a3f5f"
            },
            "type": "carpet"
           }
          ],
          "choropleth": [
           {
            "colorbar": {
             "outlinewidth": 0,
             "ticks": ""
            },
            "type": "choropleth"
           }
          ],
          "contour": [
           {
            "colorbar": {
             "outlinewidth": 0,
             "ticks": ""
            },
            "colorscale": [
             [
              0,
              "#0d0887"
             ],
             [
              0.1111111111111111,
              "#46039f"
             ],
             [
              0.2222222222222222,
              "#7201a8"
             ],
             [
              0.3333333333333333,
              "#9c179e"
             ],
             [
              0.4444444444444444,
              "#bd3786"
             ],
             [
              0.5555555555555556,
              "#d8576b"
             ],
             [
              0.6666666666666666,
              "#ed7953"
             ],
             [
              0.7777777777777778,
              "#fb9f3a"
             ],
             [
              0.8888888888888888,
              "#fdca26"
             ],
             [
              1,
              "#f0f921"
             ]
            ],
            "type": "contour"
           }
          ],
          "contourcarpet": [
           {
            "colorbar": {
             "outlinewidth": 0,
             "ticks": ""
            },
            "type": "contourcarpet"
           }
          ],
          "heatmap": [
           {
            "colorbar": {
             "outlinewidth": 0,
             "ticks": ""
            },
            "colorscale": [
             [
              0,
              "#0d0887"
             ],
             [
              0.1111111111111111,
              "#46039f"
             ],
             [
              0.2222222222222222,
              "#7201a8"
             ],
             [
              0.3333333333333333,
              "#9c179e"
             ],
             [
              0.4444444444444444,
              "#bd3786"
             ],
             [
              0.5555555555555556,
              "#d8576b"
             ],
             [
              0.6666666666666666,
              "#ed7953"
             ],
             [
              0.7777777777777778,
              "#fb9f3a"
             ],
             [
              0.8888888888888888,
              "#fdca26"
             ],
             [
              1,
              "#f0f921"
             ]
            ],
            "type": "heatmap"
           }
          ],
          "heatmapgl": [
           {
            "colorbar": {
             "outlinewidth": 0,
             "ticks": ""
            },
            "colorscale": [
             [
              0,
              "#0d0887"
             ],
             [
              0.1111111111111111,
              "#46039f"
             ],
             [
              0.2222222222222222,
              "#7201a8"
             ],
             [
              0.3333333333333333,
              "#9c179e"
             ],
             [
              0.4444444444444444,
              "#bd3786"
             ],
             [
              0.5555555555555556,
              "#d8576b"
             ],
             [
              0.6666666666666666,
              "#ed7953"
             ],
             [
              0.7777777777777778,
              "#fb9f3a"
             ],
             [
              0.8888888888888888,
              "#fdca26"
             ],
             [
              1,
              "#f0f921"
             ]
            ],
            "type": "heatmapgl"
           }
          ],
          "histogram": [
           {
            "marker": {
             "pattern": {
              "fillmode": "overlay",
              "size": 10,
              "solidity": 0.2
             }
            },
            "type": "histogram"
           }
          ],
          "histogram2d": [
           {
            "colorbar": {
             "outlinewidth": 0,
             "ticks": ""
            },
            "colorscale": [
             [
              0,
              "#0d0887"
             ],
             [
              0.1111111111111111,
              "#46039f"
             ],
             [
              0.2222222222222222,
              "#7201a8"
             ],
             [
              0.3333333333333333,
              "#9c179e"
             ],
             [
              0.4444444444444444,
              "#bd3786"
             ],
             [
              0.5555555555555556,
              "#d8576b"
             ],
             [
              0.6666666666666666,
              "#ed7953"
             ],
             [
              0.7777777777777778,
              "#fb9f3a"
             ],
             [
              0.8888888888888888,
              "#fdca26"
             ],
             [
              1,
              "#f0f921"
             ]
            ],
            "type": "histogram2d"
           }
          ],
          "histogram2dcontour": [
           {
            "colorbar": {
             "outlinewidth": 0,
             "ticks": ""
            },
            "colorscale": [
             [
              0,
              "#0d0887"
             ],
             [
              0.1111111111111111,
              "#46039f"
             ],
             [
              0.2222222222222222,
              "#7201a8"
             ],
             [
              0.3333333333333333,
              "#9c179e"
             ],
             [
              0.4444444444444444,
              "#bd3786"
             ],
             [
              0.5555555555555556,
              "#d8576b"
             ],
             [
              0.6666666666666666,
              "#ed7953"
             ],
             [
              0.7777777777777778,
              "#fb9f3a"
             ],
             [
              0.8888888888888888,
              "#fdca26"
             ],
             [
              1,
              "#f0f921"
             ]
            ],
            "type": "histogram2dcontour"
           }
          ],
          "mesh3d": [
           {
            "colorbar": {
             "outlinewidth": 0,
             "ticks": ""
            },
            "type": "mesh3d"
           }
          ],
          "parcoords": [
           {
            "line": {
             "colorbar": {
              "outlinewidth": 0,
              "ticks": ""
             }
            },
            "type": "parcoords"
           }
          ],
          "pie": [
           {
            "automargin": true,
            "type": "pie"
           }
          ],
          "scatter": [
           {
            "fillpattern": {
             "fillmode": "overlay",
             "size": 10,
             "solidity": 0.2
            },
            "type": "scatter"
           }
          ],
          "scatter3d": [
           {
            "line": {
             "colorbar": {
              "outlinewidth": 0,
              "ticks": ""
             }
            },
            "marker": {
             "colorbar": {
              "outlinewidth": 0,
              "ticks": ""
             }
            },
            "type": "scatter3d"
           }
          ],
          "scattercarpet": [
           {
            "marker": {
             "colorbar": {
              "outlinewidth": 0,
              "ticks": ""
             }
            },
            "type": "scattercarpet"
           }
          ],
          "scattergeo": [
           {
            "marker": {
             "colorbar": {
              "outlinewidth": 0,
              "ticks": ""
             }
            },
            "type": "scattergeo"
           }
          ],
          "scattergl": [
           {
            "marker": {
             "colorbar": {
              "outlinewidth": 0,
              "ticks": ""
             }
            },
            "type": "scattergl"
           }
          ],
          "scattermapbox": [
           {
            "marker": {
             "colorbar": {
              "outlinewidth": 0,
              "ticks": ""
             }
            },
            "type": "scattermapbox"
           }
          ],
          "scatterpolar": [
           {
            "marker": {
             "colorbar": {
              "outlinewidth": 0,
              "ticks": ""
             }
            },
            "type": "scatterpolar"
           }
          ],
          "scatterpolargl": [
           {
            "marker": {
             "colorbar": {
              "outlinewidth": 0,
              "ticks": ""
             }
            },
            "type": "scatterpolargl"
           }
          ],
          "scatterternary": [
           {
            "marker": {
             "colorbar": {
              "outlinewidth": 0,
              "ticks": ""
             }
            },
            "type": "scatterternary"
           }
          ],
          "surface": [
           {
            "colorbar": {
             "outlinewidth": 0,
             "ticks": ""
            },
            "colorscale": [
             [
              0,
              "#0d0887"
             ],
             [
              0.1111111111111111,
              "#46039f"
             ],
             [
              0.2222222222222222,
              "#7201a8"
             ],
             [
              0.3333333333333333,
              "#9c179e"
             ],
             [
              0.4444444444444444,
              "#bd3786"
             ],
             [
              0.5555555555555556,
              "#d8576b"
             ],
             [
              0.6666666666666666,
              "#ed7953"
             ],
             [
              0.7777777777777778,
              "#fb9f3a"
             ],
             [
              0.8888888888888888,
              "#fdca26"
             ],
             [
              1,
              "#f0f921"
             ]
            ],
            "type": "surface"
           }
          ],
          "table": [
           {
            "cells": {
             "fill": {
              "color": "#EBF0F8"
             },
             "line": {
              "color": "white"
             }
            },
            "header": {
             "fill": {
              "color": "#C8D4E3"
             },
             "line": {
              "color": "white"
             }
            },
            "type": "table"
           }
          ]
         },
         "layout": {
          "annotationdefaults": {
           "arrowcolor": "#2a3f5f",
           "arrowhead": 0,
           "arrowwidth": 1
          },
          "autotypenumbers": "strict",
          "coloraxis": {
           "colorbar": {
            "outlinewidth": 0,
            "ticks": ""
           }
          },
          "colorscale": {
           "diverging": [
            [
             0,
             "#8e0152"
            ],
            [
             0.1,
             "#c51b7d"
            ],
            [
             0.2,
             "#de77ae"
            ],
            [
             0.3,
             "#f1b6da"
            ],
            [
             0.4,
             "#fde0ef"
            ],
            [
             0.5,
             "#f7f7f7"
            ],
            [
             0.6,
             "#e6f5d0"
            ],
            [
             0.7,
             "#b8e186"
            ],
            [
             0.8,
             "#7fbc41"
            ],
            [
             0.9,
             "#4d9221"
            ],
            [
             1,
             "#276419"
            ]
           ],
           "sequential": [
            [
             0,
             "#0d0887"
            ],
            [
             0.1111111111111111,
             "#46039f"
            ],
            [
             0.2222222222222222,
             "#7201a8"
            ],
            [
             0.3333333333333333,
             "#9c179e"
            ],
            [
             0.4444444444444444,
             "#bd3786"
            ],
            [
             0.5555555555555556,
             "#d8576b"
            ],
            [
             0.6666666666666666,
             "#ed7953"
            ],
            [
             0.7777777777777778,
             "#fb9f3a"
            ],
            [
             0.8888888888888888,
             "#fdca26"
            ],
            [
             1,
             "#f0f921"
            ]
           ],
           "sequentialminus": [
            [
             0,
             "#0d0887"
            ],
            [
             0.1111111111111111,
             "#46039f"
            ],
            [
             0.2222222222222222,
             "#7201a8"
            ],
            [
             0.3333333333333333,
             "#9c179e"
            ],
            [
             0.4444444444444444,
             "#bd3786"
            ],
            [
             0.5555555555555556,
             "#d8576b"
            ],
            [
             0.6666666666666666,
             "#ed7953"
            ],
            [
             0.7777777777777778,
             "#fb9f3a"
            ],
            [
             0.8888888888888888,
             "#fdca26"
            ],
            [
             1,
             "#f0f921"
            ]
           ]
          },
          "colorway": [
           "#636efa",
           "#EF553B",
           "#00cc96",
           "#ab63fa",
           "#FFA15A",
           "#19d3f3",
           "#FF6692",
           "#B6E880",
           "#FF97FF",
           "#FECB52"
          ],
          "font": {
           "color": "#2a3f5f"
          },
          "geo": {
           "bgcolor": "white",
           "lakecolor": "white",
           "landcolor": "#E5ECF6",
           "showlakes": true,
           "showland": true,
           "subunitcolor": "white"
          },
          "hoverlabel": {
           "align": "left"
          },
          "hovermode": "closest",
          "mapbox": {
           "style": "light"
          },
          "paper_bgcolor": "white",
          "plot_bgcolor": "#E5ECF6",
          "polar": {
           "angularaxis": {
            "gridcolor": "white",
            "linecolor": "white",
            "ticks": ""
           },
           "bgcolor": "#E5ECF6",
           "radialaxis": {
            "gridcolor": "white",
            "linecolor": "white",
            "ticks": ""
           }
          },
          "scene": {
           "xaxis": {
            "backgroundcolor": "#E5ECF6",
            "gridcolor": "white",
            "gridwidth": 2,
            "linecolor": "white",
            "showbackground": true,
            "ticks": "",
            "zerolinecolor": "white"
           },
           "yaxis": {
            "backgroundcolor": "#E5ECF6",
            "gridcolor": "white",
            "gridwidth": 2,
            "linecolor": "white",
            "showbackground": true,
            "ticks": "",
            "zerolinecolor": "white"
           },
           "zaxis": {
            "backgroundcolor": "#E5ECF6",
            "gridcolor": "white",
            "gridwidth": 2,
            "linecolor": "white",
            "showbackground": true,
            "ticks": "",
            "zerolinecolor": "white"
           }
          },
          "shapedefaults": {
           "line": {
            "color": "#2a3f5f"
           }
          },
          "ternary": {
           "aaxis": {
            "gridcolor": "white",
            "linecolor": "white",
            "ticks": ""
           },
           "baxis": {
            "gridcolor": "white",
            "linecolor": "white",
            "ticks": ""
           },
           "bgcolor": "#E5ECF6",
           "caxis": {
            "gridcolor": "white",
            "linecolor": "white",
            "ticks": ""
           }
          },
          "title": {
           "x": 0.05
          },
          "xaxis": {
           "automargin": true,
           "gridcolor": "white",
           "linecolor": "white",
           "ticks": "",
           "title": {
            "standoff": 15
           },
           "zerolinecolor": "white",
           "zerolinewidth": 2
          },
          "yaxis": {
           "automargin": true,
           "gridcolor": "white",
           "linecolor": "white",
           "ticks": "",
           "title": {
            "standoff": 15
           },
           "zerolinecolor": "white",
           "zerolinewidth": 2
          }
         }
        },
        "xaxis": {
         "dtick": 1,
         "tick0": 0,
         "tickmode": "linear",
         "title": {
          "text": "Epochs"
         }
        },
        "yaxis": {
         "title": {
          "text": "Loss"
         }
        }
       }
      }
     },
     "metadata": {},
     "output_type": "display_data"
    }
   ],
   "source": [
    "fig = go.Figure(data=go.Scatter(y=history.history['sparse_categorical_accuracy'], mode='lines+markers', name='Train Accuracy'))\n",
    "fig.add_trace(go.Scatter(y=history.history['val_sparse_categorical_accuracy'], mode='lines+markers', name='Val Accuracy'))\n",
    "\n",
    "fig.update_layout(\n",
    "    yaxis_title=\"Accuracy\",\n",
    "    xaxis_title=\"Epochs\",\n",
    "    xaxis = dict(\n",
    "        tickmode = 'linear',\n",
    "        tick0 = 0,\n",
    "        dtick = 1\n",
    "    )\n",
    ")\n",
    "\n",
    "fig.show()\n",
    "\n",
    "fig = go.Figure(data=go.Scatter(y=history.history['loss'], mode='lines+markers', name='Train Loss'))\n",
    "fig.add_trace(go.Scatter(y=history.history['val_loss'], mode='lines+markers', name='Val Loss'))\n",
    "\n",
    "fig.update_layout(\n",
    "    yaxis_title=\"Loss\",\n",
    "    xaxis_title=\"Epochs\",\n",
    "    xaxis = dict(\n",
    "        tickmode = 'linear',\n",
    "        tick0 = 0,\n",
    "        dtick = 1\n",
    "    )\n",
    ")\n",
    "\n",
    "fig.show()"
   ]
  },
  {
   "cell_type": "markdown",
   "id": "b13d1afb",
   "metadata": {
    "papermill": {
     "duration": 0.359417,
     "end_time": "2023-03-28T20:15:12.846332",
     "exception": false,
     "start_time": "2023-03-28T20:15:12.486915",
     "status": "completed"
    },
    "tags": []
   },
   "source": [
    "<h2>4.4 <span style='color:#4285f4'>|</span> Evaluate Model</h2>"
   ]
  },
  {
   "cell_type": "code",
   "execution_count": 21,
   "id": "ff608791",
   "metadata": {
    "_kg_hide-input": true,
    "execution": {
     "iopub.execute_input": "2023-03-28T20:15:13.439550Z",
     "iopub.status.busy": "2023-03-28T20:15:13.438461Z",
     "iopub.status.idle": "2023-03-28T20:15:24.449107Z",
     "shell.execute_reply": "2023-03-28T20:15:24.449617Z",
     "shell.execute_reply.started": "2023-03-28T20:06:29.470519Z"
    },
    "papermill": {
     "duration": 11.257412,
     "end_time": "2023-03-28T20:15:24.449813",
     "exception": false,
     "start_time": "2023-03-28T20:15:13.192401",
     "status": "completed"
    },
    "tags": []
   },
   "outputs": [
    {
     "name": "stdout",
     "output_type": "stream",
     "text": [
      "WARNING:tensorflow:AutoGraph could not transform <function Model.make_predict_function.<locals>.predict_function at 0x0000019193DA5120> and will run it as-is.\n",
      "Please report this to the TensorFlow team. When filing the bug, set the verbosity to 10 (on Linux, `export AUTOGRAPH_VERBOSITY=10`) and attach the full output.\n",
      "Cause: module 'gast' has no attribute 'Constant'\n",
      "To silence this warning, decorate the function with @tf.autograph.experimental.do_not_convert\n",
      "WARNING: AutoGraph could not transform <function Model.make_predict_function.<locals>.predict_function at 0x0000019193DA5120> and will run it as-is.\n",
      "Please report this to the TensorFlow team. When filing the bug, set the verbosity to 10 (on Linux, `export AUTOGRAPH_VERBOSITY=10`) and attach the full output.\n",
      "Cause: module 'gast' has no attribute 'Constant'\n",
      "To silence this warning, decorate the function with @tf.autograph.experimental.do_not_convert\n",
      "1250/1250 [==============================] - 5s 4ms/step\n",
      "              precision    recall  f1-score   support\n",
      "\n",
      "       False      0.950     0.956     0.953     19973\n",
      "        True      0.956     0.950     0.953     20027\n",
      "\n",
      "    accuracy                          0.953     40000\n",
      "   macro avg      0.953     0.953     0.953     40000\n",
      "weighted avg      0.953     0.953     0.953     40000\n",
      "\n"
     ]
    }
   ],
   "source": [
    "decode_label = {0:'False', 1:'True'}\n",
    "\n",
    "y_pred = []\n",
    "y_true = []\n",
    "\n",
    "pred = model.predict(x_val)\n",
    "pred = np.argmax(pred, axis=-1)\n",
    "\n",
    "y = [decode_label[int(i)] for i in y_val]\n",
    "pred = [decode_label[int(i)] for i in pred]\n",
    "\n",
    "for i in pred:\n",
    "    y_pred.append(i)\n",
    "    \n",
    "for i in y:\n",
    "    y_true.append(i)\n",
    "    \n",
    "print(classification_report(y_true, y_pred, digits=3))"
   ]
  },
  {
   "cell_type": "code",
   "execution_count": 23,
   "id": "d3067449",
   "metadata": {
    "_kg_hide-input": true,
    "execution": {
     "iopub.execute_input": "2023-03-28T20:15:24.938245Z",
     "iopub.status.busy": "2023-03-28T20:15:24.937488Z",
     "iopub.status.idle": "2023-03-28T20:15:25.241165Z",
     "shell.execute_reply": "2023-03-28T20:15:25.241543Z",
     "shell.execute_reply.started": "2023-03-28T20:06:54.646666Z"
    },
    "papermill": {
     "duration": 0.55554,
     "end_time": "2023-03-28T20:15:25.241721",
     "exception": false,
     "start_time": "2023-03-28T20:15:24.686181",
     "status": "completed"
    },
    "tags": []
   },
   "outputs": [
    {
     "data": {
      "image/png": "[encoded data removed]",
      "text/plain": [
       "<Figure size 700x500 with 2 Axes>"
      ]
     },
     "metadata": {},
     "output_type": "display_data"
    }
   ],
   "source": [
    "cm = confusion_matrix(y_true, y_pred)\n",
    "\n",
    "plt.figure(figsize=(7,5))\n",
    "\n",
    "ax = sns.heatmap(cm/np.sum(cm),fmt='.2%', annot=True, cmap='Blues')\n",
    "\n",
    "ax.set_xlabel('\\nPredicted Values')\n",
    "ax.set_ylabel('Actual Values ');\n",
    "\n",
    "ax.xaxis.set_ticklabels(['False','True'])\n",
    "ax.yaxis.set_ticklabels(['False','True'])\n",
    "\n",
    "plt.show()"
   ]
  },
  {
   "cell_type": "markdown",
   "id": "1c65658b",
   "metadata": {
    "papermill": {
     "duration": 0.236131,
     "end_time": "2023-03-28T20:15:25.714557",
     "exception": false,
     "start_time": "2023-03-28T20:15:25.478426",
     "status": "completed"
    },
    "tags": []
   },
   "source": [
    "# <b>5 <span style='color:#4285f4'>|</span> Inference</b>"
   ]
  },
  {
   "cell_type": "code",
   "execution_count": 24,
   "id": "9376c30f",
   "metadata": {
    "execution": {
     "iopub.execute_input": "2023-03-28T20:15:26.195378Z",
     "iopub.status.busy": "2023-03-28T20:15:26.194445Z",
     "iopub.status.idle": "2023-03-28T20:15:26.196352Z",
     "shell.execute_reply": "2023-03-28T20:15:26.196813Z",
     "shell.execute_reply.started": "2023-03-28T20:06:58.128862Z"
    },
    "papermill": {
     "duration": 0.244447,
     "end_time": "2023-03-28T20:15:26.196971",
     "exception": false,
     "start_time": "2023-03-28T20:15:25.952524",
     "status": "completed"
    },
    "tags": []
   },
   "outputs": [],
   "source": [
    "def predict(text):\n",
    "    text = tokenizer.texts_to_sequences([text])\n",
    "    if len(text)>maxlen:\n",
    "        text=text[:maxlen]\n",
    "    text = pad_sequences(text, maxlen=maxlen, dtype='float', padding='post', value=0.0)\n",
    "    text = np.array(text)\n",
    "    pred = model.predict(text)\n",
    "    pred = np.argmax(pred, axis=-1)\n",
    "    decode_label = {0:'False', 1:'True'}\n",
    "    pred = decode_label[pred[0]]\n",
    "    return pred"
   ]
  },
  {
   "cell_type": "code",
   "execution_count": 51,
   "id": "bc4d6d04",
   "metadata": {
    "execution": {
     "iopub.execute_input": "2023-03-28T20:15:26.674611Z",
     "iopub.status.busy": "2023-03-28T20:15:26.673774Z",
     "iopub.status.idle": "2023-03-28T20:15:26.978965Z",
     "shell.execute_reply": "2023-03-28T20:15:26.978431Z",
     "shell.execute_reply.started": "2023-03-28T20:07:05.696896Z"
    },
    "papermill": {
     "duration": 0.54559,
     "end_time": "2023-03-28T20:15:26.979114",
     "exception": false,
     "start_time": "2023-03-28T20:15:26.433524",
     "status": "completed"
    },
    "tags": []
   },
   "outputs": [
    {
     "ename": "TypeError",
     "evalue": "load_model() got an unexpected keyword argument 'encoding'",
     "output_type": "error",
     "traceback": [
      "\u001b[1;31m---------------------------------------------------------------------------\u001b[0m",
      "\u001b[1;31mTypeError\u001b[0m                                 Traceback (most recent call last)",
      "Cell \u001b[1;32mIn[51], line 1\u001b[0m\n\u001b[1;32m----> 1\u001b[0m model \u001b[38;5;241m=\u001b[39m \u001b[43mload_model\u001b[49m\u001b[43m(\u001b[49m\u001b[38;5;124;43m'\u001b[39;49m\u001b[38;5;124;43mmodel.keras\u001b[39;49m\u001b[38;5;124;43m'\u001b[39;49m\u001b[43m,\u001b[49m\u001b[43m \u001b[49m\u001b[43mencoding\u001b[49m\u001b[38;5;241;43m=\u001b[39;49m\u001b[38;5;124;43m'\u001b[39;49m\u001b[38;5;124;43mlatin1\u001b[39;49m\u001b[38;5;124;43m'\u001b[39;49m\u001b[43m)\u001b[49m\n",
      "File \u001b[1;32m~\\AppData\\Local\\Packages\\PythonSoftwareFoundation.Python.3.10_qbz5n2kfra8p0\\LocalCache\\local-packages\\Python310\\site-packages\\keras\\saving\\saving_api.py:212\u001b[0m, in \u001b[0;36mload_model\u001b[1;34m(filepath, custom_objects, compile, safe_mode, **kwargs)\u001b[0m\n\u001b[0;32m    204\u001b[0m     \u001b[38;5;28;01mreturn\u001b[39;00m saving_lib\u001b[38;5;241m.\u001b[39mload_model(\n\u001b[0;32m    205\u001b[0m         filepath,\n\u001b[0;32m    206\u001b[0m         custom_objects\u001b[38;5;241m=\u001b[39mcustom_objects,\n\u001b[0;32m    207\u001b[0m         \u001b[38;5;28mcompile\u001b[39m\u001b[38;5;241m=\u001b[39m\u001b[38;5;28mcompile\u001b[39m,\n\u001b[0;32m    208\u001b[0m         safe_mode\u001b[38;5;241m=\u001b[39msafe_mode,\n\u001b[0;32m    209\u001b[0m     )\n\u001b[0;32m    211\u001b[0m \u001b[38;5;66;03m# Legacy case.\u001b[39;00m\n\u001b[1;32m--> 212\u001b[0m \u001b[38;5;28;01mreturn\u001b[39;00m legacy_sm_saving_lib\u001b[38;5;241m.\u001b[39mload_model(\n\u001b[0;32m    213\u001b[0m     filepath, custom_objects\u001b[38;5;241m=\u001b[39mcustom_objects, \u001b[38;5;28mcompile\u001b[39m\u001b[38;5;241m=\u001b[39m\u001b[38;5;28mcompile\u001b[39m, \u001b[38;5;241m*\u001b[39m\u001b[38;5;241m*\u001b[39mkwargs\n\u001b[0;32m    214\u001b[0m )\n",
      "File \u001b[1;32m~\\AppData\\Local\\Packages\\PythonSoftwareFoundation.Python.3.10_qbz5n2kfra8p0\\LocalCache\\local-packages\\Python310\\site-packages\\keras\\utils\\traceback_utils.py:70\u001b[0m, in \u001b[0;36mfilter_traceback.<locals>.error_handler\u001b[1;34m(*args, **kwargs)\u001b[0m\n\u001b[0;32m     67\u001b[0m     filtered_tb \u001b[38;5;241m=\u001b[39m _process_traceback_frames(e\u001b[38;5;241m.\u001b[39m__traceback__)\n\u001b[0;32m     68\u001b[0m     \u001b[38;5;66;03m# To get the full stack trace, call:\u001b[39;00m\n\u001b[0;32m     69\u001b[0m     \u001b[38;5;66;03m# `tf.debugging.disable_traceback_filtering()`\u001b[39;00m\n\u001b[1;32m---> 70\u001b[0m     \u001b[38;5;28;01mraise\u001b[39;00m e\u001b[38;5;241m.\u001b[39mwith_traceback(filtered_tb) \u001b[38;5;28;01mfrom\u001b[39;00m \u001b[38;5;28mNone\u001b[39m\n\u001b[0;32m     71\u001b[0m \u001b[38;5;28;01mfinally\u001b[39;00m:\n\u001b[0;32m     72\u001b[0m     \u001b[38;5;28;01mdel\u001b[39;00m filtered_tb\n",
      "File \u001b[1;32m~\\AppData\\Local\\Packages\\PythonSoftwareFoundation.Python.3.10_qbz5n2kfra8p0\\LocalCache\\local-packages\\Python310\\site-packages\\keras\\utils\\traceback_utils.py:65\u001b[0m, in \u001b[0;36mfilter_traceback.<locals>.error_handler\u001b[1;34m(*args, **kwargs)\u001b[0m\n\u001b[0;32m     63\u001b[0m filtered_tb \u001b[38;5;241m=\u001b[39m \u001b[38;5;28;01mNone\u001b[39;00m\n\u001b[0;32m     64\u001b[0m \u001b[38;5;28;01mtry\u001b[39;00m:\n\u001b[1;32m---> 65\u001b[0m     \u001b[38;5;28;01mreturn\u001b[39;00m fn(\u001b[38;5;241m*\u001b[39margs, \u001b[38;5;241m*\u001b[39m\u001b[38;5;241m*\u001b[39mkwargs)\n\u001b[0;32m     66\u001b[0m \u001b[38;5;28;01mexcept\u001b[39;00m \u001b[38;5;167;01mException\u001b[39;00m \u001b[38;5;28;01mas\u001b[39;00m e:\n\u001b[0;32m     67\u001b[0m     filtered_tb \u001b[38;5;241m=\u001b[39m _process_traceback_frames(e\u001b[38;5;241m.\u001b[39m__traceback__)\n",
      "\u001b[1;31mTypeError\u001b[0m: load_model() got an unexpected keyword argument 'encoding'"
     ]
    }
   ],
   "source": [
    "model = load_model('model.keras')"
   ]
  },
  {
   "cell_type": "code",
   "execution_count": 34,
   "id": "f1ae70da",
   "metadata": {
    "execution": {
     "iopub.execute_input": "2023-03-28T20:15:27.457481Z",
     "iopub.status.busy": "2023-03-28T20:15:27.456562Z",
     "iopub.status.idle": "2023-03-28T20:15:27.836552Z",
     "shell.execute_reply": "2023-03-28T20:15:27.837264Z",
     "shell.execute_reply.started": "2023-03-28T20:07:06.123840Z"
    },
    "papermill": {
     "duration": 0.622138,
     "end_time": "2023-03-28T20:15:27.837427",
     "exception": false,
     "start_time": "2023-03-28T20:15:27.215289",
     "status": "completed"
    },
    "tags": []
   },
   "outputs": [
    {
     "name": "stdout",
     "output_type": "stream",
     "text": [
      "1/1 [==============================] - 0s 25ms/step\n",
      "Text: what's the difference between donald trump's hair and a wet racoon\n",
      "Humor detected:  True\n"
     ]
    }
   ],
   "source": [
    "text = \"what's the difference between donald trump's hair and a wet racoon\"\n",
    "pred = predict(text)\n",
    "print(\"Text:\",text)\n",
    "print('Humor detected: ',pred)"
   ]
  },
  {
   "cell_type": "code",
   "execution_count": 35,
   "id": "55716847",
   "metadata": {
    "_kg_hide-input": true,
    "execution": {
     "iopub.execute_input": "2023-03-28T20:15:28.333647Z",
     "iopub.status.busy": "2023-03-28T20:15:28.332810Z",
     "iopub.status.idle": "2023-03-28T20:15:28.379768Z",
     "shell.execute_reply": "2023-03-28T20:15:28.379298Z",
     "shell.execute_reply.started": "2023-03-28T20:07:06.618278Z"
    },
    "papermill": {
     "duration": 0.292203,
     "end_time": "2023-03-28T20:15:28.379915",
     "exception": false,
     "start_time": "2023-03-28T20:15:28.087712",
     "status": "completed"
    },
    "tags": []
   },
   "outputs": [
    {
     "name": "stdout",
     "output_type": "stream",
     "text": [
      "1/1 [==============================] - 0s 25ms/step\n",
      "Text: Artificial Intelligence is becoming better at language\n",
      "Humor detected:  False\n"
     ]
    }
   ],
   "source": [
    "text = \"Artificial Intelligence is becoming better at language\"\n",
    "pred = predict(text)\n",
    "print(\"Text:\",text)\n",
    "print('Humor detected: ',pred)"
   ]
  },
  {
   "cell_type": "code",
   "execution_count": 36,
   "id": "fff953cf",
   "metadata": {
    "_kg_hide-input": true,
    "execution": {
     "iopub.execute_input": "2023-03-28T20:15:28.975781Z",
     "iopub.status.busy": "2023-03-28T20:15:28.974886Z",
     "iopub.status.idle": "2023-03-28T20:15:29.041362Z",
     "shell.execute_reply": "2023-03-28T20:15:29.040181Z",
     "shell.execute_reply.started": "2023-03-28T20:07:07.897735Z"
    },
    "papermill": {
     "duration": 0.407216,
     "end_time": "2023-03-28T20:15:29.041546",
     "exception": false,
     "start_time": "2023-03-28T20:15:28.634330",
     "status": "completed"
    },
    "tags": []
   },
   "outputs": [
    {
     "name": "stdout",
     "output_type": "stream",
     "text": [
      "1/1 [==============================] - 0s 51ms/step\n",
      "Text: people say time is precious but they waste it right after they say it themselves\n",
      "Humor detected:  True\n"
     ]
    }
   ],
   "source": [
    "text = \"people say time is precious but they waste it right after they say it themselves\"\n",
    "pred = predict(text)\n",
    "print(\"Text:\",text)\n",
    "print('Humor detected: ',pred)"
   ]
  },
  {
   "cell_type": "code",
   "execution_count": 37,
   "id": "3c6dc52d",
   "metadata": {
    "execution": {
     "iopub.execute_input": "2023-03-28T20:15:29.681448Z",
     "iopub.status.busy": "2023-03-28T20:15:29.680579Z",
     "iopub.status.idle": "2023-03-28T20:15:29.729385Z",
     "shell.execute_reply": "2023-03-28T20:15:29.728756Z",
     "shell.execute_reply.started": "2023-03-28T20:08:31.075137Z"
    },
    "papermill": {
     "duration": 0.317474,
     "end_time": "2023-03-28T20:15:29.729577",
     "exception": false,
     "start_time": "2023-03-28T20:15:29.412103",
     "status": "completed"
    },
    "tags": []
   },
   "outputs": [
    {
     "name": "stdout",
     "output_type": "stream",
     "text": [
      "1/1 [==============================] - 0s 25ms/step\n",
      "Text: The earth is flat\n",
      "Humor detected:  False\n"
     ]
    }
   ],
   "source": [
    "text = \"The earth is flat\"\n",
    "pred = predict(text)\n",
    "print(\"Text:\",text)\n",
    "print('Humor detected: ',pred)"
   ]
  },
  {
   "cell_type": "markdown",
   "id": "e03d4287",
   "metadata": {
    "papermill": {
     "duration": 0.245015,
     "end_time": "2023-03-28T20:15:30.217366",
     "exception": false,
     "start_time": "2023-03-28T20:15:29.972351",
     "status": "completed"
    },
    "tags": []
   },
   "source": [
    "### Please Upvote this notebook as it encourages me in doing better.\n",
    "![](http://68.media.tumblr.com/e1aed171ded2bd78cc8dc0e73b594eaf/tumblr_o17frv0cdu1u9u459o1_500.gif)"
   ]
  }
 ],
 "metadata": {
  "kernelspec": {
   "display_name": "Python 3",
   "language": "python",
   "name": "python3"
  },
  "language_info": {
   "codemirror_mode": {
    "name": "ipython",
    "version": 3
   },
   "file_extension": ".py",
   "mimetype": "text/x-python",
   "name": "python",
   "nbconvert_exporter": "python",
   "pygments_lexer": "ipython3",
   "version": "3.10.11"
  },
  "papermill": {
   "default_parameters": {},
   "duration": 158.452506,
   "end_time": "2023-03-28T20:15:33.742021",
   "environment_variables": {},
   "exception": null,
   "input_path": "__notebook__.ipynb",
   "output_path": "__notebook__.ipynb",
   "parameters": {},
   "start_time": "2023-03-28T20:12:55.289515",
   "version": "2.3.3"
  }
 },
 "nbformat": 4,
 "nbformat_minor": 5
}
