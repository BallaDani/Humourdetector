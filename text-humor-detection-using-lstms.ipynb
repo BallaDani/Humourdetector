{
 "cells": [
  {
   "cell_type": "markdown",
   "id": "ea3e788e",
   "metadata": {
    "papermill": {
     "duration": 0.033119,
     "end_time": "2023-03-28T20:13:03.003712",
     "exception": false,
     "start_time": "2023-03-28T20:13:02.970593",
     "status": "completed"
    },
    "tags": []
   },
   "source": [
    "# <b>1 <span style='color:#4285f4'>|</span> Importing Libraries</b>\n",
    "- **For ML Models**: tensorflow, keras  \n",
    "- **For Data Processing**: numpy, pandas, sklearn  \n",
    "- **For Data Visualization**: matplotlib, seaborn, plotly  "
   ]
  },
  {
   "cell_type": "code",
   "execution_count": 55,
   "id": "5264bd42",
   "metadata": {
    "_kg_hide-input": true,
    "execution": {
     "iopub.execute_input": "2023-03-28T20:13:03.080276Z",
     "iopub.status.busy": "2023-03-28T20:13:03.079423Z",
     "iopub.status.idle": "2023-03-28T20:13:11.642965Z",
     "shell.execute_reply": "2023-03-28T20:13:11.641979Z",
     "shell.execute_reply.started": "2023-03-28T19:27:36.688387Z"
    },
    "papermill": {
     "duration": 8.608024,
     "end_time": "2023-03-28T20:13:11.643124",
     "exception": false,
     "start_time": "2023-03-28T20:13:03.035100",
     "status": "completed"
    },
    "tags": []
   },
   "outputs": [],
   "source": [
    "import streamlit as st\n",
    "# For ML Models\n",
    "import tensorflow as tf\n",
    "from tensorflow import keras\n",
    "from tensorflow.keras.layers import *\n",
    "from tensorflow.keras.losses import *\n",
    "from tensorflow.keras.models import *\n",
    "from tensorflow.keras.metrics import *\n",
    "from tensorflow.keras.optimizers import *\n",
    "from tensorflow.keras.applications import *\n",
    "from tensorflow.keras.callbacks import *\n",
    "from tensorflow.keras.utils import to_categorical\n",
    "from tensorflow.keras.preprocessing.sequence import pad_sequences\n",
    "from tensorflow.keras.preprocessing.text import Tokenizer\n",
    "\n",
    "# For Data Processing\n",
    "import numpy as np\n",
    "import pandas as pd\n",
    "from sklearn.utils import shuffle\n",
    "from sklearn.model_selection import train_test_split\n",
    "from sklearn.metrics import *\n",
    "\n",
    "# For Data Visualization\n",
    "import matplotlib.pyplot as plt\n",
    "import matplotlib\n",
    "import plotly.express as px\n",
    "import plotly.graph_objects as go\n",
    "import seaborn as sns\n",
    "import wordcloud\n",
    "\n",
    "# Miscellaneous\n",
    "from tqdm import tqdm\n",
    "import os\n",
    "import random\n",
    "from IPython import display"
   ]
  },
  {
   "cell_type": "markdown",
   "id": "93bd0926",
   "metadata": {
    "papermill": {
     "duration": 0.027063,
     "end_time": "2023-03-28T20:13:11.698145",
     "exception": false,
     "start_time": "2023-03-28T20:13:11.671082",
     "status": "completed"
    },
    "tags": []
   },
   "source": [
    "# <b>2 <span style='color:#4285f4'>|</span> About the Dataset</b>"
   ]
  },
  {
   "cell_type": "markdown",
   "id": "002e0de8",
   "metadata": {
    "papermill": {
     "duration": 0.027346,
     "end_time": "2023-03-28T20:13:11.753215",
     "exception": false,
     "start_time": "2023-03-28T20:13:11.725869",
     "status": "completed"
    },
    "tags": []
   },
   "source": [
    "<h2>2.1 <span style='color:#4285f4'>|</span> Reading the data</h2>"
   ]
  },
  {
   "cell_type": "code",
   "execution_count": 33,
   "id": "05f3c39a",
   "metadata": {
    "_kg_hide-input": true,
    "execution": {
     "iopub.execute_input": "2023-03-28T20:13:11.814052Z",
     "iopub.status.busy": "2023-03-28T20:13:11.813409Z",
     "iopub.status.idle": "2023-03-28T20:13:12.277322Z",
     "shell.execute_reply": "2023-03-28T20:13:12.277804Z",
     "shell.execute_reply.started": "2023-03-28T19:27:46.752062Z"
    },
    "papermill": {
     "duration": 0.495761,
     "end_time": "2023-03-28T20:13:12.277980",
     "exception": false,
     "start_time": "2023-03-28T20:13:11.782219",
     "status": "completed"
    },
    "tags": []
   },
   "outputs": [
    {
     "data": {
      "text/html": [
       "<div>\n",
       "<style scoped>\n",
       "    .dataframe tbody tr th:only-of-type {\n",
       "        vertical-align: middle;\n",
       "    }\n",
       "\n",
       "    .dataframe tbody tr th {\n",
       "        vertical-align: top;\n",
       "    }\n",
       "\n",
       "    .dataframe thead th {\n",
       "        text-align: right;\n",
       "    }\n",
       "</style>\n",
       "<table border=\"1\" class=\"dataframe\">\n",
       "  <thead>\n",
       "    <tr style=\"text-align: right;\">\n",
       "      <th></th>\n",
       "      <th>text</th>\n",
       "      <th>humor</th>\n",
       "    </tr>\n",
       "  </thead>\n",
       "  <tbody>\n",
       "    <tr>\n",
       "      <th>0</th>\n",
       "      <td>Joe biden rules out 2020 bid: 'guys, i'm not r...</td>\n",
       "      <td>False</td>\n",
       "    </tr>\n",
       "    <tr>\n",
       "      <th>1</th>\n",
       "      <td>Watch: darvish gave hitter whiplash with slow ...</td>\n",
       "      <td>False</td>\n",
       "    </tr>\n",
       "    <tr>\n",
       "      <th>2</th>\n",
       "      <td>What do you call a turtle without its shell? d...</td>\n",
       "      <td>True</td>\n",
       "    </tr>\n",
       "    <tr>\n",
       "      <th>3</th>\n",
       "      <td>5 reasons the 2016 election feels so personal</td>\n",
       "      <td>False</td>\n",
       "    </tr>\n",
       "    <tr>\n",
       "      <th>4</th>\n",
       "      <td>Pasco police shot mexican migrant from behind,...</td>\n",
       "      <td>False</td>\n",
       "    </tr>\n",
       "    <tr>\n",
       "      <th>...</th>\n",
       "      <td>...</td>\n",
       "      <td>...</td>\n",
       "    </tr>\n",
       "    <tr>\n",
       "      <th>199995</th>\n",
       "      <td>Conor maynard seamlessly fits old-school r&amp;b h...</td>\n",
       "      <td>False</td>\n",
       "    </tr>\n",
       "    <tr>\n",
       "      <th>199996</th>\n",
       "      <td>How to you make holy water? you boil the hell ...</td>\n",
       "      <td>True</td>\n",
       "    </tr>\n",
       "    <tr>\n",
       "      <th>199997</th>\n",
       "      <td>How many optometrists does it take to screw in...</td>\n",
       "      <td>True</td>\n",
       "    </tr>\n",
       "    <tr>\n",
       "      <th>199998</th>\n",
       "      <td>Mcdonald's will officially kick off all-day br...</td>\n",
       "      <td>False</td>\n",
       "    </tr>\n",
       "    <tr>\n",
       "      <th>199999</th>\n",
       "      <td>An irish man walks on the street and ignores a...</td>\n",
       "      <td>True</td>\n",
       "    </tr>\n",
       "  </tbody>\n",
       "</table>\n",
       "<p>200000 rows × 2 columns</p>\n",
       "</div>"
      ],
      "text/plain": [
       "                                                     text  humor\n",
       "0       Joe biden rules out 2020 bid: 'guys, i'm not r...  False\n",
       "1       Watch: darvish gave hitter whiplash with slow ...  False\n",
       "2       What do you call a turtle without its shell? d...   True\n",
       "3           5 reasons the 2016 election feels so personal  False\n",
       "4       Pasco police shot mexican migrant from behind,...  False\n",
       "...                                                   ...    ...\n",
       "199995  Conor maynard seamlessly fits old-school r&b h...  False\n",
       "199996  How to you make holy water? you boil the hell ...   True\n",
       "199997  How many optometrists does it take to screw in...   True\n",
       "199998  Mcdonald's will officially kick off all-day br...  False\n",
       "199999  An irish man walks on the street and ignores a...   True\n",
       "\n",
       "[200000 rows x 2 columns]"
      ]
     },
     "execution_count": 33,
     "metadata": {},
     "output_type": "execute_result"
    }
   ],
   "source": [
    "df = pd.read_csv('dataset.csv')\n",
    "df"
   ]
  },
  {
   "cell_type": "markdown",
   "id": "d57775d7",
   "metadata": {
    "papermill": {
     "duration": 0.031462,
     "end_time": "2023-03-28T20:13:12.341895",
     "exception": false,
     "start_time": "2023-03-28T20:13:12.310433",
     "status": "completed"
    },
    "tags": []
   },
   "source": [
    "<h2>2.2 <span style='color:#4285f4'>|</span> Distribution of Humor</h2>"
   ]
  },
  {
   "cell_type": "code",
   "execution_count": 34,
   "id": "91449f5f",
   "metadata": {
    "_kg_hide-input": true,
    "execution": {
     "iopub.execute_input": "2023-03-28T20:13:12.408765Z",
     "iopub.status.busy": "2023-03-28T20:13:12.407792Z",
     "iopub.status.idle": "2023-03-28T20:13:12.537145Z",
     "shell.execute_reply": "2023-03-28T20:13:12.538280Z",
     "shell.execute_reply.started": "2023-03-28T19:27:54.075661Z"
    },
    "papermill": {
     "duration": 0.167635,
     "end_time": "2023-03-28T20:13:12.538565",
     "exception": false,
     "start_time": "2023-03-28T20:13:12.370930",
     "status": "completed"
    },
    "tags": []
   },
   "outputs": [
    {
     "data": {
      "image/png": "[encoded data removed]",
      "text/plain": [
       "<Figure size 1600x600 with 1 Axes>"
      ]
     },
     "metadata": {},
     "output_type": "display_data"
    }
   ],
   "source": [
    "plt.rcParams.update({'font.size': 13})\n",
    "label = ['True', 'False']\n",
    "count = [len(df[df['humor']==True]),\n",
    "         len(df[df['humor']==False])]\n",
    "\n",
    "plt.pie(count, labels = label, startangle=-45, explode=[0.1,0], autopct='%.1f%%')\n",
    "plt.show()"
   ]
  },
  {
   "cell_type": "markdown",
   "id": "163582e0",
   "metadata": {
    "papermill": {
     "duration": 0.039711,
     "end_time": "2023-03-28T20:13:12.650793",
     "exception": false,
     "start_time": "2023-03-28T20:13:12.611082",
     "status": "completed"
    },
    "tags": []
   },
   "source": [
    "#### The dataset is perfectly balanced"
   ]
  },
  {
   "cell_type": "markdown",
   "id": "ce15f271",
   "metadata": {
    "papermill": {
     "duration": 0.037283,
     "end_time": "2023-03-28T20:13:26.277316",
     "exception": false,
     "start_time": "2023-03-28T20:13:26.240033",
     "status": "completed"
    },
    "tags": []
   },
   "source": [
    "# <b>3 <span style='color:#4285f4'>|</span> Data Preprocessing</b>"
   ]
  },
  {
   "cell_type": "markdown",
   "id": "e2d120bd",
   "metadata": {
    "papermill": {
     "duration": 0.037764,
     "end_time": "2023-03-28T20:13:26.352418",
     "exception": false,
     "start_time": "2023-03-28T20:13:26.314654",
     "status": "completed"
    },
    "tags": []
   },
   "source": [
    "<h2>3.1 <span style='color:#4285f4'>|</span> Tokenizer</h2>"
   ]
  },
  {
   "cell_type": "code",
   "execution_count": 36,
   "id": "963051c5",
   "metadata": {
    "execution": {
     "iopub.execute_input": "2023-03-28T20:13:26.447230Z",
     "iopub.status.busy": "2023-03-28T20:13:26.442239Z",
     "iopub.status.idle": "2023-03-28T20:13:30.170000Z",
     "shell.execute_reply": "2023-03-28T20:13:30.169460Z",
     "shell.execute_reply.started": "2023-03-28T19:28:17.663071Z"
    },
    "papermill": {
     "duration": 3.779431,
     "end_time": "2023-03-28T20:13:30.170151",
     "exception": false,
     "start_time": "2023-03-28T20:13:26.390720",
     "status": "completed"
    },
    "tags": []
   },
   "outputs": [],
   "source": [
    "tokenizer = Tokenizer(filters='\"&(),-/:;<=>[\\\\]_`{|}~\\t\\n0123456789',\n",
    "                      lower=True, split=' ')\n",
    "tokenizer.fit_on_texts(np.array(df['text']))\n",
    "vocab_size = len(tokenizer.word_index) + 1"
   ]
  },
  {
   "cell_type": "code",
   "execution_count": 37,
   "id": "ffcbf473",
   "metadata": {
    "_kg_hide-input": true,
    "execution": {
     "iopub.execute_input": "2023-03-28T20:13:30.267542Z",
     "iopub.status.busy": "2023-03-28T20:13:30.257442Z",
     "iopub.status.idle": "2023-03-28T20:13:34.809455Z",
     "shell.execute_reply": "2023-03-28T20:13:34.809859Z",
     "shell.execute_reply.started": "2023-03-28T19:28:28.310629Z"
    },
    "papermill": {
     "duration": 4.602491,
     "end_time": "2023-03-28T20:13:34.810020",
     "exception": false,
     "start_time": "2023-03-28T20:13:30.207529",
     "status": "completed"
    },
    "tags": []
   },
   "outputs": [
    {
     "data": {
      "image/png": "[encoded data removed]",
      "text/plain": [
       "<Figure size 1600x600 with 1 Axes>"
      ]
     },
     "metadata": {},
     "output_type": "display_data"
    }
   ],
   "source": [
    "lengths=[]\n",
    "for x in range(len(df)):\n",
    "    i = df['text'][x]\n",
    "    i = tokenizer.texts_to_sequences([i])\n",
    "    lengths.append(len(i[0]))\n",
    "lengths = np.array(lengths)\n",
    "\"\"\" sns.set(rc={'figure.figsize':(16,6)})\n",
    "fig = sns.histplot(lengths, kde=False, bins=25)\n",
    "plt.xlabel('Length of Sentence (in words)')\n",
    "plt.axvline(x=lengths.mean(),\n",
    "            color='red',ls='--', label=\"mean\")\n",
    "plt.legend(loc='upper right', prop={'size': 12})\n",
    "plt.show(fig) \"\"\""
   ]
  },
  {
   "cell_type": "markdown",
   "id": "687eda4c",
   "metadata": {
    "papermill": {
     "duration": 0.038616,
     "end_time": "2023-03-28T20:13:34.886913",
     "exception": false,
     "start_time": "2023-03-28T20:13:34.848297",
     "status": "completed"
    },
    "tags": []
   },
   "source": [
    "#### Here I am setting the maximum length of a sentence to be 15 words  "
   ]
  },
  {
   "cell_type": "code",
   "execution_count": 38,
   "id": "aee656bb",
   "metadata": {
    "execution": {
     "iopub.execute_input": "2023-03-28T20:13:34.968976Z",
     "iopub.status.busy": "2023-03-28T20:13:34.968109Z",
     "iopub.status.idle": "2023-03-28T20:13:34.970239Z",
     "shell.execute_reply": "2023-03-28T20:13:34.970605Z",
     "shell.execute_reply.started": "2023-03-28T19:28:35.865601Z"
    },
    "papermill": {
     "duration": 0.045766,
     "end_time": "2023-03-28T20:13:34.970784",
     "exception": false,
     "start_time": "2023-03-28T20:13:34.925018",
     "status": "completed"
    },
    "tags": []
   },
   "outputs": [],
   "source": [
    "maxlen = 15"
   ]
  },
  {
   "cell_type": "markdown",
   "id": "8a591110",
   "metadata": {
    "papermill": {
     "duration": 0.037514,
     "end_time": "2023-03-28T20:13:35.045735",
     "exception": false,
     "start_time": "2023-03-28T20:13:35.008221",
     "status": "completed"
    },
    "tags": []
   },
   "source": [
    "<h2>3.2 <span style='color:#4285f4'>|</span> Encode </h2>"
   ]
  },
  {
   "cell_type": "code",
   "execution_count": 39,
   "id": "29ace9ec",
   "metadata": {
    "execution": {
     "iopub.execute_input": "2023-03-28T20:13:35.128862Z",
     "iopub.status.busy": "2023-03-28T20:13:35.127875Z",
     "iopub.status.idle": "2023-03-28T20:13:39.590058Z",
     "shell.execute_reply": "2023-03-28T20:13:39.589057Z",
     "shell.execute_reply.started": "2023-03-28T19:28:37.845806Z"
    },
    "papermill": {
     "duration": 4.506744,
     "end_time": "2023-03-28T20:13:39.590219",
     "exception": false,
     "start_time": "2023-03-28T20:13:35.083475",
     "status": "completed"
    },
    "tags": []
   },
   "outputs": [],
   "source": [
    "df['humor'] = df['humor'].apply(lambda x: {True:1, False:0}.get(x))\n",
    "texts = np.array(df['text'])\n",
    "texts = tokenizer.texts_to_sequences(texts)\n",
    "for x in range(len(texts)):\n",
    "    if len(texts[x])>maxlen:\n",
    "        texts[x]=texts[x][:maxlen]\n",
    "texts = pad_sequences(texts, maxlen=maxlen, dtype='float', padding='post', value=0.0)\n",
    "texts = np.array(texts)\n",
    "labels = df['humor']\n",
    "labels = np.array([float(j) for j in labels])"
   ]
  },
  {
   "cell_type": "markdown",
   "id": "a2ebd75d",
   "metadata": {
    "papermill": {
     "duration": 0.037673,
     "end_time": "2023-03-28T20:13:39.666871",
     "exception": false,
     "start_time": "2023-03-28T20:13:39.629198",
     "status": "completed"
    },
    "tags": []
   },
   "source": [
    "<h2>3.3 <span style='color:#4285f4'>|</span> Train-Test Split</h2>"
   ]
  },
  {
   "cell_type": "code",
   "execution_count": 40,
   "id": "1982742f",
   "metadata": {
    "execution": {
     "iopub.execute_input": "2023-03-28T20:13:39.750140Z",
     "iopub.status.busy": "2023-03-28T20:13:39.749236Z",
     "iopub.status.idle": "2023-03-28T20:13:39.780924Z",
     "shell.execute_reply": "2023-03-28T20:13:39.780389Z",
     "shell.execute_reply.started": "2023-03-28T19:28:43.695749Z"
    },
    "papermill": {
     "duration": 0.075638,
     "end_time": "2023-03-28T20:13:39.781060",
     "exception": false,
     "start_time": "2023-03-28T20:13:39.705422",
     "status": "completed"
    },
    "tags": []
   },
   "outputs": [],
   "source": [
    "x_train, x_val, y_train, y_val = train_test_split(texts, labels, test_size=0.2, random_state=0)"
   ]
  },
  {
   "cell_type": "markdown",
   "id": "e889dfa5",
   "metadata": {
    "papermill": {
     "duration": 0.038672,
     "end_time": "2023-03-28T20:13:39.858076",
     "exception": false,
     "start_time": "2023-03-28T20:13:39.819404",
     "status": "completed"
    },
    "tags": []
   },
   "source": [
    "# <b>4 <span style='color:#4285f4'>|</span> Model</b>"
   ]
  },
  {
   "cell_type": "markdown",
   "id": "7119bde0",
   "metadata": {
    "papermill": {
     "duration": 0.03769,
     "end_time": "2023-03-28T20:13:39.935106",
     "exception": false,
     "start_time": "2023-03-28T20:13:39.897416",
     "status": "completed"
    },
    "tags": []
   },
   "source": [
    "#### I am using the embedding matrix [glove.twitter.27B.100d.txt](https://www.kaggle.com/mushfirat/glove-pretrained-embeddings?select=glove.twitter.27B.100d.txt) from [Glove Pretrained Embeddings](https://www.kaggle.com/mushfirat/glove-pretrained-embeddings) dataset which I have attached to this notebook"
   ]
  },
  {
   "cell_type": "markdown",
   "id": "a9d3ca8b",
   "metadata": {
    "papermill": {
     "duration": 0.037613,
     "end_time": "2023-03-28T20:13:40.012337",
     "exception": false,
     "start_time": "2023-03-28T20:13:39.974724",
     "status": "completed"
    },
    "tags": []
   },
   "source": [
    "<h2>4.1 <span style='color:#4285f4'>|</span> Load Embedding Matrix</h2>"
   ]
  },
  {
   "cell_type": "code",
   "execution_count": 41,
   "id": "9970c658",
   "metadata": {
    "execution": {
     "iopub.execute_input": "2023-03-28T20:13:40.094179Z",
     "iopub.status.busy": "2023-03-28T20:13:40.093562Z",
     "iopub.status.idle": "2023-03-28T20:13:49.332890Z",
     "shell.execute_reply": "2023-03-28T20:13:49.332381Z",
     "shell.execute_reply.started": "2023-03-28T19:39:58.929074Z"
    },
    "papermill": {
     "duration": 9.282847,
     "end_time": "2023-03-28T20:13:49.333036",
     "exception": false,
     "start_time": "2023-03-28T20:13:40.050189",
     "status": "completed"
    },
    "tags": []
   },
   "outputs": [
    {
     "data": {
      "text/plain": [
       "\" embeddings_index = dict()\\nf = open('/kaggle/input/glove-pretrained-embeddings/glove.twitter.27B.25d.txt')\\nfor line in f:\\n    values = line.split()\\n    word = values[0]\\n    coefs = np.asarray(values[1:], dtype='float32')\\n    embeddings_index[word] = coefs\\nf.close()\\n\\nembedding_matrix = np.zeros((vocab_size, 25))\\nfor word, i in tokenizer.word_index.items():\\n    embedding_vector = embeddings_index.get(word)\\n    if embedding_vector is not None:\\n        embedding_matrix[i] = embedding_vector \""
      ]
     },
     "execution_count": 41,
     "metadata": {},
     "output_type": "execute_result"
    }
   ],
   "source": [
    "\"\"\" embeddings_index = dict()\n",
    "f = open('/kaggle/input/glove-pretrained-embeddings/glove.twitter.27B.25d.txt')\n",
    "for line in f:\n",
    "    values = line.split()\n",
    "    word = values[0]\n",
    "    coefs = np.asarray(values[1:], dtype='float32')\n",
    "    embeddings_index[word] = coefs\n",
    "f.close()\n",
    "\n",
    "embedding_matrix = np.zeros((vocab_size, 25))\n",
    "for word, i in tokenizer.word_index.items():\n",
    "    embedding_vector = embeddings_index.get(word)\n",
    "    if embedding_vector is not None:\n",
    "        embedding_matrix[i] = embedding_vector \"\"\""
   ]
  },
  {
   "cell_type": "markdown",
   "id": "feb3c517",
   "metadata": {
    "papermill": {
     "duration": 0.038997,
     "end_time": "2023-03-28T20:13:49.411052",
     "exception": false,
     "start_time": "2023-03-28T20:13:49.372055",
     "status": "completed"
    },
    "tags": []
   },
   "source": [
    "<h2>4.2 <span style='color:#4285f4'>|</span> Build Model</h2>"
   ]
  },
  {
   "cell_type": "markdown",
   "id": "d1a68dbd",
   "metadata": {
    "papermill": {
     "duration": 0.038263,
     "end_time": "2023-03-28T20:13:49.487854",
     "exception": false,
     "start_time": "2023-03-28T20:13:49.449591",
     "status": "completed"
    },
    "tags": []
   },
   "source": [
    "I have shown how to load the embedding matrix above, and to load these weights to a keras layer, simply mention the `weights` parameter when creating an embedding layer. Like this:\n",
    "```\n",
    "Embedding(vocab_size, embedding_dimension, weights=[embedding_matrix], input_length=maxlen, trainable=True)\n",
    "```\n",
    "But using this pretrained embedding matrix does not give us a better score (Check version 5 of this notebook). So, I am training the embeddings from scratch."
   ]
  },
  {
   "cell_type": "code",
   "execution_count": 42,
   "id": "a8076698",
   "metadata": {
    "_kg_hide-output": true,
    "execution": {
     "iopub.execute_input": "2023-03-28T20:13:49.570307Z",
     "iopub.status.busy": "2023-03-28T20:13:49.569577Z",
     "iopub.status.idle": "2023-03-28T20:13:52.550039Z",
     "shell.execute_reply": "2023-03-28T20:13:52.549350Z",
     "shell.execute_reply.started": "2023-03-28T20:04:15.202969Z"
    },
    "papermill": {
     "duration": 3.024514,
     "end_time": "2023-03-28T20:13:52.550175",
     "exception": false,
     "start_time": "2023-03-28T20:13:49.525661",
     "status": "completed"
    },
    "tags": []
   },
   "outputs": [],
   "source": [
    "model = Sequential()\n",
    "model.add(Input(shape=(maxlen)))\n",
    "model.add(Embedding(vocab_size, 8, input_length=maxlen))\n",
    "model.add(Bidirectional(LSTM(16, activation='relu',dropout=0.15, return_sequences=True), merge_mode='concat'))\n",
    "model.add(TimeDistributed(Dense(16, activation='relu')))\n",
    "model.add(LSTM(64, activation='relu',dropout=0.15, return_sequences=False))\n",
    "model.add(Flatten())\n",
    "model.add(Dense(64, activation='relu'))\n",
    "model.add(Dropout(0.25))\n",
    "model.add(Dense(2, activation='softmax'))"
   ]
  },
  {
   "cell_type": "code",
   "execution_count": 43,
   "id": "8d54d01f",
   "metadata": {
    "_kg_hide-input": true,
    "execution": {
     "iopub.execute_input": "2023-03-28T20:13:52.633486Z",
     "iopub.status.busy": "2023-03-28T20:13:52.631722Z",
     "iopub.status.idle": "2023-03-28T20:13:52.639925Z",
     "shell.execute_reply": "2023-03-28T20:13:52.640356Z",
     "shell.execute_reply.started": "2023-03-28T20:04:16.403525Z"
    },
    "papermill": {
     "duration": 0.05228,
     "end_time": "2023-03-28T20:13:52.640508",
     "exception": false,
     "start_time": "2023-03-28T20:13:52.588228",
     "status": "completed"
    },
    "tags": []
   },
   "outputs": [
    {
     "name": "stdout",
     "output_type": "stream",
     "text": [
      "Model: \"sequential_1\"\n",
      "_________________________________________________________________\n",
      " Layer (type)                Output Shape              Param #   \n",
      "=================================================================\n",
      " embedding_1 (Embedding)     (None, 15, 8)             892912    \n",
      "                                                                 \n",
      " bidirectional_1 (Bidirectio  (None, 15, 32)           3200      \n",
      " nal)                                                            \n",
      "                                                                 \n",
      " time_distributed_1 (TimeDis  (None, 15, 16)           528       \n",
      " tributed)                                                       \n",
      "                                                                 \n",
      " lstm_3 (LSTM)               (None, 64)                20736     \n",
      "                                                                 \n",
      " flatten_1 (Flatten)         (None, 64)                0         \n",
      "                                                                 \n",
      " dense_4 (Dense)             (None, 64)                4160      \n",
      "                                                                 \n",
      " dropout_1 (Dropout)         (None, 64)                0         \n",
      "                                                                 \n",
      " dense_5 (Dense)             (None, 2)                 130       \n",
      "                                                                 \n",
      "=================================================================\n",
      "Total params: 921,666\n",
      "Trainable params: 921,666\n",
      "Non-trainable params: 0\n",
      "_________________________________________________________________\n"
     ]
    }
   ],
   "source": [
    "model.summary()"
   ]
  },
  {
   "cell_type": "code",
   "execution_count": 44,
   "id": "c55a34f3",
   "metadata": {
    "_kg_hide-input": true,
    "execution": {
     "iopub.execute_input": "2023-03-28T20:13:52.722593Z",
     "iopub.status.busy": "2023-03-28T20:13:52.722046Z",
     "iopub.status.idle": "2023-03-28T20:13:53.955179Z",
     "shell.execute_reply": "2023-03-28T20:13:53.954634Z",
     "shell.execute_reply.started": "2023-03-28T20:04:17.617488Z"
    },
    "papermill": {
     "duration": 1.276267,
     "end_time": "2023-03-28T20:13:53.955320",
     "exception": false,
     "start_time": "2023-03-28T20:13:52.679053",
     "status": "completed"
    },
    "tags": []
   },
   "outputs": [
    {
     "name": "stdout",
     "output_type": "stream",
     "text": [
      "You must install pydot (`pip install pydot`) and install graphviz (see instructions at https://graphviz.gitlab.io/download/) for plot_model to work.\n"
     ]
    }
   ],
   "source": [
    "tf.keras.utils.plot_model(model, show_shapes=True)"
   ]
  },
  {
   "cell_type": "code",
   "execution_count": 45,
   "id": "9cf22136",
   "metadata": {
    "execution": {
     "iopub.execute_input": "2023-03-28T20:13:54.049992Z",
     "iopub.status.busy": "2023-03-28T20:13:54.048074Z",
     "iopub.status.idle": "2023-03-28T20:13:54.056224Z",
     "shell.execute_reply": "2023-03-28T20:13:54.055664Z",
     "shell.execute_reply.started": "2023-03-28T20:04:20.948396Z"
    },
    "papermill": {
     "duration": 0.060277,
     "end_time": "2023-03-28T20:13:54.056351",
     "exception": false,
     "start_time": "2023-03-28T20:13:53.996074",
     "status": "completed"
    },
    "tags": []
   },
   "outputs": [],
   "source": [
    "model.compile(optimizer=Adam(learning_rate=0.0001),\n",
    "              loss='sparse_categorical_crossentropy',\n",
    "             metrics=['sparse_categorical_accuracy'])"
   ]
  },
  {
   "cell_type": "markdown",
   "id": "dac22afc",
   "metadata": {
    "papermill": {
     "duration": 0.040659,
     "end_time": "2023-03-28T20:13:54.137573",
     "exception": false,
     "start_time": "2023-03-28T20:13:54.096914",
     "status": "completed"
    },
    "tags": []
   },
   "source": [
    "<h2>4.3 <span style='color:#4285f4'>|</span> Train Model</h2>"
   ]
  },
  {
   "cell_type": "code",
   "execution_count": 56,
   "id": "050e8290",
   "metadata": {
    "_kg_hide-output": true,
    "execution": {
     "iopub.execute_input": "2023-03-28T20:13:54.223815Z",
     "iopub.status.busy": "2023-03-28T20:13:54.222972Z",
     "iopub.status.idle": "2023-03-28T20:15:11.427278Z",
     "shell.execute_reply": "2023-03-28T20:15:11.426791Z",
     "shell.execute_reply.started": "2023-03-28T20:04:33.382574Z"
    },
    "papermill": {
     "duration": 77.250033,
     "end_time": "2023-03-28T20:15:11.427423",
     "exception": false,
     "start_time": "2023-03-28T20:13:54.177390",
     "status": "completed"
    },
    "tags": []
   },
   "outputs": [
    {
     "name": "stdout",
     "output_type": "stream",
     "text": [
      "Epoch 1/30\n",
      " 3/20 [===>..........................] - ETA: 16s - loss: 0.0669 - sparse_categorical_accuracy: 0.9770"
     ]
    },
    {
     "ename": "KeyboardInterrupt",
     "evalue": "",
     "output_type": "error",
     "traceback": [
      "\u001b[1;31m---------------------------------------------------------------------------\u001b[0m",
      "\u001b[1;31mKeyboardInterrupt\u001b[0m                         Traceback (most recent call last)",
      "\u001b[1;32mc:\\Users\\Balla\\Documents\\Bevgép-féléves\\text-humor-detection-using-lstms.ipynb Cell 32\u001b[0m line \u001b[0;36m3\n\u001b[0;32m      <a href='vscode-notebook-cell:/c%3A/Users/Balla/Documents/Bevg%C3%A9p-f%C3%A9l%C3%A9ves/text-humor-detection-using-lstms.ipynb#X43sZmlsZQ%3D%3D?line=0'>1</a>\u001b[0m epochs \u001b[39m=\u001b[39m \u001b[39m30\u001b[39m\n\u001b[0;32m      <a href='vscode-notebook-cell:/c%3A/Users/Balla/Documents/Bevg%C3%A9p-f%C3%A9l%C3%A9ves/text-humor-detection-using-lstms.ipynb#X43sZmlsZQ%3D%3D?line=1'>2</a>\u001b[0m \u001b[39m#mc = ModelCheckpoint('model.h5', monitor='val_sparse_categorical_accuracy', mode='max', verbose=1, save_best_only=True)\u001b[39;00m\n\u001b[1;32m----> <a href='vscode-notebook-cell:/c%3A/Users/Balla/Documents/Bevg%C3%A9p-f%C3%A9l%C3%A9ves/text-humor-detection-using-lstms.ipynb#X43sZmlsZQ%3D%3D?line=2'>3</a>\u001b[0m history \u001b[39m=\u001b[39m model\u001b[39m.\u001b[39;49mfit(x_train, y_train, epochs\u001b[39m=\u001b[39;49mepochs, batch_size\u001b[39m=\u001b[39;49m\u001b[39m8192\u001b[39;49m, validation_data\u001b[39m=\u001b[39;49m(x_val, y_val), callbacks\u001b[39m=\u001b[39;49m[mc])\n",
      "File \u001b[1;32m~\\AppData\\Local\\Packages\\PythonSoftwareFoundation.Python.3.10_qbz5n2kfra8p0\\LocalCache\\local-packages\\Python310\\site-packages\\keras\\utils\\traceback_utils.py:65\u001b[0m, in \u001b[0;36mfilter_traceback.<locals>.error_handler\u001b[1;34m(*args, **kwargs)\u001b[0m\n\u001b[0;32m     63\u001b[0m filtered_tb \u001b[39m=\u001b[39m \u001b[39mNone\u001b[39;00m\n\u001b[0;32m     64\u001b[0m \u001b[39mtry\u001b[39;00m:\n\u001b[1;32m---> 65\u001b[0m     \u001b[39mreturn\u001b[39;00m fn(\u001b[39m*\u001b[39margs, \u001b[39m*\u001b[39m\u001b[39m*\u001b[39mkwargs)\n\u001b[0;32m     66\u001b[0m \u001b[39mexcept\u001b[39;00m \u001b[39mException\u001b[39;00m \u001b[39mas\u001b[39;00m e:\n\u001b[0;32m     67\u001b[0m     filtered_tb \u001b[39m=\u001b[39m _process_traceback_frames(e\u001b[39m.\u001b[39m__traceback__)\n",
      "File \u001b[1;32m~\\AppData\\Local\\Packages\\PythonSoftwareFoundation.Python.3.10_qbz5n2kfra8p0\\LocalCache\\local-packages\\Python310\\site-packages\\keras\\engine\\training.py:1685\u001b[0m, in \u001b[0;36mModel.fit\u001b[1;34m(self, x, y, batch_size, epochs, verbose, callbacks, validation_split, validation_data, shuffle, class_weight, sample_weight, initial_epoch, steps_per_epoch, validation_steps, validation_batch_size, validation_freq, max_queue_size, workers, use_multiprocessing)\u001b[0m\n\u001b[0;32m   1677\u001b[0m \u001b[39mwith\u001b[39;00m tf\u001b[39m.\u001b[39mprofiler\u001b[39m.\u001b[39mexperimental\u001b[39m.\u001b[39mTrace(\n\u001b[0;32m   1678\u001b[0m     \u001b[39m\"\u001b[39m\u001b[39mtrain\u001b[39m\u001b[39m\"\u001b[39m,\n\u001b[0;32m   1679\u001b[0m     epoch_num\u001b[39m=\u001b[39mepoch,\n\u001b[1;32m   (...)\u001b[0m\n\u001b[0;32m   1682\u001b[0m     _r\u001b[39m=\u001b[39m\u001b[39m1\u001b[39m,\n\u001b[0;32m   1683\u001b[0m ):\n\u001b[0;32m   1684\u001b[0m     callbacks\u001b[39m.\u001b[39mon_train_batch_begin(step)\n\u001b[1;32m-> 1685\u001b[0m     tmp_logs \u001b[39m=\u001b[39m \u001b[39mself\u001b[39;49m\u001b[39m.\u001b[39;49mtrain_function(iterator)\n\u001b[0;32m   1686\u001b[0m     \u001b[39mif\u001b[39;00m data_handler\u001b[39m.\u001b[39mshould_sync:\n\u001b[0;32m   1687\u001b[0m         context\u001b[39m.\u001b[39masync_wait()\n",
      "File \u001b[1;32m~\\AppData\\Local\\Packages\\PythonSoftwareFoundation.Python.3.10_qbz5n2kfra8p0\\LocalCache\\local-packages\\Python310\\site-packages\\tensorflow\\python\\util\\traceback_utils.py:150\u001b[0m, in \u001b[0;36mfilter_traceback.<locals>.error_handler\u001b[1;34m(*args, **kwargs)\u001b[0m\n\u001b[0;32m    148\u001b[0m filtered_tb \u001b[39m=\u001b[39m \u001b[39mNone\u001b[39;00m\n\u001b[0;32m    149\u001b[0m \u001b[39mtry\u001b[39;00m:\n\u001b[1;32m--> 150\u001b[0m   \u001b[39mreturn\u001b[39;00m fn(\u001b[39m*\u001b[39margs, \u001b[39m*\u001b[39m\u001b[39m*\u001b[39mkwargs)\n\u001b[0;32m    151\u001b[0m \u001b[39mexcept\u001b[39;00m \u001b[39mException\u001b[39;00m \u001b[39mas\u001b[39;00m e:\n\u001b[0;32m    152\u001b[0m   filtered_tb \u001b[39m=\u001b[39m _process_traceback_frames(e\u001b[39m.\u001b[39m__traceback__)\n",
      "File \u001b[1;32m~\\AppData\\Local\\Packages\\PythonSoftwareFoundation.Python.3.10_qbz5n2kfra8p0\\LocalCache\\local-packages\\Python310\\site-packages\\tensorflow\\python\\eager\\polymorphic_function\\polymorphic_function.py:894\u001b[0m, in \u001b[0;36mFunction.__call__\u001b[1;34m(self, *args, **kwds)\u001b[0m\n\u001b[0;32m    891\u001b[0m compiler \u001b[39m=\u001b[39m \u001b[39m\"\u001b[39m\u001b[39mxla\u001b[39m\u001b[39m\"\u001b[39m \u001b[39mif\u001b[39;00m \u001b[39mself\u001b[39m\u001b[39m.\u001b[39m_jit_compile \u001b[39melse\u001b[39;00m \u001b[39m\"\u001b[39m\u001b[39mnonXla\u001b[39m\u001b[39m\"\u001b[39m\n\u001b[0;32m    893\u001b[0m \u001b[39mwith\u001b[39;00m OptionalXlaContext(\u001b[39mself\u001b[39m\u001b[39m.\u001b[39m_jit_compile):\n\u001b[1;32m--> 894\u001b[0m   result \u001b[39m=\u001b[39m \u001b[39mself\u001b[39m\u001b[39m.\u001b[39m_call(\u001b[39m*\u001b[39margs, \u001b[39m*\u001b[39m\u001b[39m*\u001b[39mkwds)\n\u001b[0;32m    896\u001b[0m new_tracing_count \u001b[39m=\u001b[39m \u001b[39mself\u001b[39m\u001b[39m.\u001b[39mexperimental_get_tracing_count()\n\u001b[0;32m    897\u001b[0m without_tracing \u001b[39m=\u001b[39m (tracing_count \u001b[39m==\u001b[39m new_tracing_count)\n",
      "File \u001b[1;32m~\\AppData\\Local\\Packages\\PythonSoftwareFoundation.Python.3.10_qbz5n2kfra8p0\\LocalCache\\local-packages\\Python310\\site-packages\\tensorflow\\python\\eager\\polymorphic_function\\polymorphic_function.py:926\u001b[0m, in \u001b[0;36mFunction._call\u001b[1;34m(self, *args, **kwds)\u001b[0m\n\u001b[0;32m    923\u001b[0m   \u001b[39mself\u001b[39m\u001b[39m.\u001b[39m_lock\u001b[39m.\u001b[39mrelease()\n\u001b[0;32m    924\u001b[0m   \u001b[39m# In this case we have created variables on the first call, so we run the\u001b[39;00m\n\u001b[0;32m    925\u001b[0m   \u001b[39m# defunned version which is guaranteed to never create variables.\u001b[39;00m\n\u001b[1;32m--> 926\u001b[0m   \u001b[39mreturn\u001b[39;00m \u001b[39mself\u001b[39m\u001b[39m.\u001b[39m_no_variable_creation_fn(\u001b[39m*\u001b[39margs, \u001b[39m*\u001b[39m\u001b[39m*\u001b[39mkwds)  \u001b[39m# pylint: disable=not-callable\u001b[39;00m\n\u001b[0;32m    927\u001b[0m \u001b[39melif\u001b[39;00m \u001b[39mself\u001b[39m\u001b[39m.\u001b[39m_variable_creation_fn \u001b[39mis\u001b[39;00m \u001b[39mnot\u001b[39;00m \u001b[39mNone\u001b[39;00m:\n\u001b[0;32m    928\u001b[0m   \u001b[39m# Release the lock early so that multiple threads can perform the call\u001b[39;00m\n\u001b[0;32m    929\u001b[0m   \u001b[39m# in parallel.\u001b[39;00m\n\u001b[0;32m    930\u001b[0m   \u001b[39mself\u001b[39m\u001b[39m.\u001b[39m_lock\u001b[39m.\u001b[39mrelease()\n",
      "File \u001b[1;32m~\\AppData\\Local\\Packages\\PythonSoftwareFoundation.Python.3.10_qbz5n2kfra8p0\\LocalCache\\local-packages\\Python310\\site-packages\\tensorflow\\python\\eager\\polymorphic_function\\tracing_compiler.py:143\u001b[0m, in \u001b[0;36mTracingCompiler.__call__\u001b[1;34m(self, *args, **kwargs)\u001b[0m\n\u001b[0;32m    140\u001b[0m \u001b[39mwith\u001b[39;00m \u001b[39mself\u001b[39m\u001b[39m.\u001b[39m_lock:\n\u001b[0;32m    141\u001b[0m   (concrete_function,\n\u001b[0;32m    142\u001b[0m    filtered_flat_args) \u001b[39m=\u001b[39m \u001b[39mself\u001b[39m\u001b[39m.\u001b[39m_maybe_define_function(args, kwargs)\n\u001b[1;32m--> 143\u001b[0m \u001b[39mreturn\u001b[39;00m concrete_function\u001b[39m.\u001b[39;49m_call_flat(\n\u001b[0;32m    144\u001b[0m     filtered_flat_args, captured_inputs\u001b[39m=\u001b[39;49mconcrete_function\u001b[39m.\u001b[39;49mcaptured_inputs)\n",
      "File \u001b[1;32m~\\AppData\\Local\\Packages\\PythonSoftwareFoundation.Python.3.10_qbz5n2kfra8p0\\LocalCache\\local-packages\\Python310\\site-packages\\tensorflow\\python\\eager\\polymorphic_function\\monomorphic_function.py:1757\u001b[0m, in \u001b[0;36mConcreteFunction._call_flat\u001b[1;34m(self, args, captured_inputs, cancellation_manager)\u001b[0m\n\u001b[0;32m   1753\u001b[0m possible_gradient_type \u001b[39m=\u001b[39m gradients_util\u001b[39m.\u001b[39mPossibleTapeGradientTypes(args)\n\u001b[0;32m   1754\u001b[0m \u001b[39mif\u001b[39;00m (possible_gradient_type \u001b[39m==\u001b[39m gradients_util\u001b[39m.\u001b[39mPOSSIBLE_GRADIENT_TYPES_NONE\n\u001b[0;32m   1755\u001b[0m     \u001b[39mand\u001b[39;00m executing_eagerly):\n\u001b[0;32m   1756\u001b[0m   \u001b[39m# No tape is watching; skip to running the function.\u001b[39;00m\n\u001b[1;32m-> 1757\u001b[0m   \u001b[39mreturn\u001b[39;00m \u001b[39mself\u001b[39m\u001b[39m.\u001b[39m_build_call_outputs(\u001b[39mself\u001b[39;49m\u001b[39m.\u001b[39;49m_inference_function\u001b[39m.\u001b[39;49mcall(\n\u001b[0;32m   1758\u001b[0m       ctx, args, cancellation_manager\u001b[39m=\u001b[39;49mcancellation_manager))\n\u001b[0;32m   1759\u001b[0m forward_backward \u001b[39m=\u001b[39m \u001b[39mself\u001b[39m\u001b[39m.\u001b[39m_select_forward_and_backward_functions(\n\u001b[0;32m   1760\u001b[0m     args,\n\u001b[0;32m   1761\u001b[0m     possible_gradient_type,\n\u001b[0;32m   1762\u001b[0m     executing_eagerly)\n\u001b[0;32m   1763\u001b[0m forward_function, args_with_tangents \u001b[39m=\u001b[39m forward_backward\u001b[39m.\u001b[39mforward()\n",
      "File \u001b[1;32m~\\AppData\\Local\\Packages\\PythonSoftwareFoundation.Python.3.10_qbz5n2kfra8p0\\LocalCache\\local-packages\\Python310\\site-packages\\tensorflow\\python\\eager\\polymorphic_function\\monomorphic_function.py:381\u001b[0m, in \u001b[0;36m_EagerDefinedFunction.call\u001b[1;34m(self, ctx, args, cancellation_manager)\u001b[0m\n\u001b[0;32m    379\u001b[0m \u001b[39mwith\u001b[39;00m _InterpolateFunctionError(\u001b[39mself\u001b[39m):\n\u001b[0;32m    380\u001b[0m   \u001b[39mif\u001b[39;00m cancellation_manager \u001b[39mis\u001b[39;00m \u001b[39mNone\u001b[39;00m:\n\u001b[1;32m--> 381\u001b[0m     outputs \u001b[39m=\u001b[39m execute\u001b[39m.\u001b[39;49mexecute(\n\u001b[0;32m    382\u001b[0m         \u001b[39mstr\u001b[39;49m(\u001b[39mself\u001b[39;49m\u001b[39m.\u001b[39;49msignature\u001b[39m.\u001b[39;49mname),\n\u001b[0;32m    383\u001b[0m         num_outputs\u001b[39m=\u001b[39;49m\u001b[39mself\u001b[39;49m\u001b[39m.\u001b[39;49m_num_outputs,\n\u001b[0;32m    384\u001b[0m         inputs\u001b[39m=\u001b[39;49margs,\n\u001b[0;32m    385\u001b[0m         attrs\u001b[39m=\u001b[39;49mattrs,\n\u001b[0;32m    386\u001b[0m         ctx\u001b[39m=\u001b[39;49mctx)\n\u001b[0;32m    387\u001b[0m   \u001b[39melse\u001b[39;00m:\n\u001b[0;32m    388\u001b[0m     outputs \u001b[39m=\u001b[39m execute\u001b[39m.\u001b[39mexecute_with_cancellation(\n\u001b[0;32m    389\u001b[0m         \u001b[39mstr\u001b[39m(\u001b[39mself\u001b[39m\u001b[39m.\u001b[39msignature\u001b[39m.\u001b[39mname),\n\u001b[0;32m    390\u001b[0m         num_outputs\u001b[39m=\u001b[39m\u001b[39mself\u001b[39m\u001b[39m.\u001b[39m_num_outputs,\n\u001b[1;32m   (...)\u001b[0m\n\u001b[0;32m    393\u001b[0m         ctx\u001b[39m=\u001b[39mctx,\n\u001b[0;32m    394\u001b[0m         cancellation_manager\u001b[39m=\u001b[39mcancellation_manager)\n",
      "File \u001b[1;32m~\\AppData\\Local\\Packages\\PythonSoftwareFoundation.Python.3.10_qbz5n2kfra8p0\\LocalCache\\local-packages\\Python310\\site-packages\\tensorflow\\python\\eager\\execute.py:52\u001b[0m, in \u001b[0;36mquick_execute\u001b[1;34m(op_name, num_outputs, inputs, attrs, ctx, name)\u001b[0m\n\u001b[0;32m     50\u001b[0m \u001b[39mtry\u001b[39;00m:\n\u001b[0;32m     51\u001b[0m   ctx\u001b[39m.\u001b[39mensure_initialized()\n\u001b[1;32m---> 52\u001b[0m   tensors \u001b[39m=\u001b[39m pywrap_tfe\u001b[39m.\u001b[39;49mTFE_Py_Execute(ctx\u001b[39m.\u001b[39;49m_handle, device_name, op_name,\n\u001b[0;32m     53\u001b[0m                                       inputs, attrs, num_outputs)\n\u001b[0;32m     54\u001b[0m \u001b[39mexcept\u001b[39;00m core\u001b[39m.\u001b[39m_NotOkStatusException \u001b[39mas\u001b[39;00m e:\n\u001b[0;32m     55\u001b[0m   \u001b[39mif\u001b[39;00m name \u001b[39mis\u001b[39;00m \u001b[39mnot\u001b[39;00m \u001b[39mNone\u001b[39;00m:\n",
      "\u001b[1;31mKeyboardInterrupt\u001b[0m: "
     ]
    }
   ],
   "source": [
    "epochs = 30\n",
    "#mc = ModelCheckpoint('model.h5', monitor='val_sparse_categorical_accuracy', mode='max', verbose=1, save_best_only=True)\n",
    "history = model.fit(x_train, y_train, epochs=epochs, batch_size=8192, validation_data=(x_val, y_val), callbacks=[mc])"
   ]
  },
  {
   "cell_type": "markdown",
   "id": "b13d1afb",
   "metadata": {
    "papermill": {
     "duration": 0.359417,
     "end_time": "2023-03-28T20:15:12.846332",
     "exception": false,
     "start_time": "2023-03-28T20:15:12.486915",
     "status": "completed"
    },
    "tags": []
   },
   "source": [
    "<h2>4.4 <span style='color:#4285f4'>|</span> Evaluate Model</h2>"
   ]
  },
  {
   "cell_type": "code",
   "execution_count": 48,
   "id": "ff608791",
   "metadata": {
    "_kg_hide-input": true,
    "execution": {
     "iopub.execute_input": "2023-03-28T20:15:13.439550Z",
     "iopub.status.busy": "2023-03-28T20:15:13.438461Z",
     "iopub.status.idle": "2023-03-28T20:15:24.449107Z",
     "shell.execute_reply": "2023-03-28T20:15:24.449617Z",
     "shell.execute_reply.started": "2023-03-28T20:06:29.470519Z"
    },
    "papermill": {
     "duration": 11.257412,
     "end_time": "2023-03-28T20:15:24.449813",
     "exception": false,
     "start_time": "2023-03-28T20:15:13.192401",
     "status": "completed"
    },
    "tags": []
   },
   "outputs": [
    {
     "name": "stdout",
     "output_type": "stream",
     "text": [
      "WARNING:tensorflow:AutoGraph could not transform <function Model.make_predict_function.<locals>.predict_function at 0x0000020F700A5D80> and will run it as-is.\n",
      "Please report this to the TensorFlow team. When filing the bug, set the verbosity to 10 (on Linux, `export AUTOGRAPH_VERBOSITY=10`) and attach the full output.\n",
      "Cause: module 'gast' has no attribute 'Constant'\n",
      "To silence this warning, decorate the function with @tf.autograph.experimental.do_not_convert\n",
      "WARNING: AutoGraph could not transform <function Model.make_predict_function.<locals>.predict_function at 0x0000020F700A5D80> and will run it as-is.\n",
      "Please report this to the TensorFlow team. When filing the bug, set the verbosity to 10 (on Linux, `export AUTOGRAPH_VERBOSITY=10`) and attach the full output.\n",
      "Cause: module 'gast' has no attribute 'Constant'\n",
      "To silence this warning, decorate the function with @tf.autograph.experimental.do_not_convert\n"
     ]
    },
    {
     "name": "stdout",
     "output_type": "stream",
     "text": [
      "1250/1250 [==============================] - 6s 4ms/step\n",
      "              precision    recall  f1-score   support\n",
      "\n",
      "       False      0.951     0.956     0.953     19973\n",
      "        True      0.955     0.951     0.953     20027\n",
      "\n",
      "    accuracy                          0.953     40000\n",
      "   macro avg      0.953     0.953     0.953     40000\n",
      "weighted avg      0.953     0.953     0.953     40000\n",
      "\n"
     ]
    }
   ],
   "source": [
    "decode_label = {0:'False', 1:'True'}\n",
    "\n",
    "y_pred = []\n",
    "y_true = []\n",
    "\n",
    "pred = model.predict(x_val)\n",
    "pred = np.argmax(pred, axis=-1)\n",
    "\n",
    "y = [decode_label[int(i)] for i in y_val]\n",
    "pred = [decode_label[int(i)] for i in pred]\n",
    "\n",
    "for i in pred:\n",
    "    y_pred.append(i)\n",
    "    \n",
    "for i in y:\n",
    "    y_true.append(i)\n",
    "    \n",
    "print(classification_report(y_true, y_pred, digits=3))"
   ]
  },
  {
   "cell_type": "code",
   "execution_count": 49,
   "id": "d3067449",
   "metadata": {
    "_kg_hide-input": true,
    "execution": {
     "iopub.execute_input": "2023-03-28T20:15:24.938245Z",
     "iopub.status.busy": "2023-03-28T20:15:24.937488Z",
     "iopub.status.idle": "2023-03-28T20:15:25.241165Z",
     "shell.execute_reply": "2023-03-28T20:15:25.241543Z",
     "shell.execute_reply.started": "2023-03-28T20:06:54.646666Z"
    },
    "papermill": {
     "duration": 0.55554,
     "end_time": "2023-03-28T20:15:25.241721",
     "exception": false,
     "start_time": "2023-03-28T20:15:24.686181",
     "status": "completed"
    },
    "tags": []
   },
   "outputs": [
    {
     "data": {
      "image/png": "[encoded data removed]",
      "text/plain": [
       "<Figure size 700x500 with 2 Axes>"
      ]
     },
     "metadata": {},
     "output_type": "display_data"
    }
   ],
   "source": [
    "cm = confusion_matrix(y_true, y_pred)\n",
    "\n",
    "plt.figure(figsize=(7,5))\n",
    "\n",
    "ax = sns.heatmap(cm/np.sum(cm),fmt='.2%', annot=True, cmap='Blues')\n",
    "\n",
    "ax.set_xlabel('\\nPredicted Values')\n",
    "ax.set_ylabel('Actual Values ');\n",
    "\n",
    "ax.xaxis.set_ticklabels(['False','True'])\n",
    "ax.yaxis.set_ticklabels(['False','True'])\n",
    "\n",
    "plt.show()"
   ]
  },
  {
   "cell_type": "markdown",
   "id": "1c65658b",
   "metadata": {
    "papermill": {
     "duration": 0.236131,
     "end_time": "2023-03-28T20:15:25.714557",
     "exception": false,
     "start_time": "2023-03-28T20:15:25.478426",
     "status": "completed"
    },
    "tags": []
   },
   "source": [
    "# <b>5 <span style='color:#4285f4'>|</span> Inference</b>"
   ]
  },
  {
   "cell_type": "code",
   "execution_count": 50,
   "id": "9376c30f",
   "metadata": {
    "execution": {
     "iopub.execute_input": "2023-03-28T20:15:26.195378Z",
     "iopub.status.busy": "2023-03-28T20:15:26.194445Z",
     "iopub.status.idle": "2023-03-28T20:15:26.196352Z",
     "shell.execute_reply": "2023-03-28T20:15:26.196813Z",
     "shell.execute_reply.started": "2023-03-28T20:06:58.128862Z"
    },
    "papermill": {
     "duration": 0.244447,
     "end_time": "2023-03-28T20:15:26.196971",
     "exception": false,
     "start_time": "2023-03-28T20:15:25.952524",
     "status": "completed"
    },
    "tags": []
   },
   "outputs": [],
   "source": [
    "def predict(text):\n",
    "    text = tokenizer.texts_to_sequences([text])\n",
    "    if len(text)>maxlen:\n",
    "        text=text[:maxlen]\n",
    "    text = pad_sequences(text, maxlen=maxlen, dtype='float', padding='post', value=0.0)\n",
    "    text = np.array(text)\n",
    "    pred = model.predict(text)\n",
    "    pred = np.argmax(pred, axis=-1)\n",
    "    decode_label = {0:'False', 1:'True'}\n",
    "    pred = decode_label[pred[0]]\n",
    "    return pred"
   ]
  },
  {
   "cell_type": "code",
   "execution_count": 51,
   "id": "f1ae70da",
   "metadata": {
    "execution": {
     "iopub.execute_input": "2023-03-28T20:15:27.457481Z",
     "iopub.status.busy": "2023-03-28T20:15:27.456562Z",
     "iopub.status.idle": "2023-03-28T20:15:27.836552Z",
     "shell.execute_reply": "2023-03-28T20:15:27.837264Z",
     "shell.execute_reply.started": "2023-03-28T20:07:06.123840Z"
    },
    "papermill": {
     "duration": 0.622138,
     "end_time": "2023-03-28T20:15:27.837427",
     "exception": false,
     "start_time": "2023-03-28T20:15:27.215289",
     "status": "completed"
    },
    "tags": []
   },
   "outputs": [
    {
     "name": "stdout",
     "output_type": "stream",
     "text": [
      "1/1 [==============================] - 0s 454ms/step\n",
      "Text: what's the difference between donald trump's hair and a wet racoon\n",
      "Humor detected:  True\n"
     ]
    }
   ],
   "source": [
    "text = \"what's the difference between donald trump's hair and a wet racoon\"\n",
    "pred = predict(text)\n",
    "print(\"Text:\",text)\n",
    "print('Humor detected: ',pred)"
   ]
  },
  {
   "cell_type": "code",
   "execution_count": 52,
   "id": "55716847",
   "metadata": {
    "_kg_hide-input": true,
    "execution": {
     "iopub.execute_input": "2023-03-28T20:15:28.333647Z",
     "iopub.status.busy": "2023-03-28T20:15:28.332810Z",
     "iopub.status.idle": "2023-03-28T20:15:28.379768Z",
     "shell.execute_reply": "2023-03-28T20:15:28.379298Z",
     "shell.execute_reply.started": "2023-03-28T20:07:06.618278Z"
    },
    "papermill": {
     "duration": 0.292203,
     "end_time": "2023-03-28T20:15:28.379915",
     "exception": false,
     "start_time": "2023-03-28T20:15:28.087712",
     "status": "completed"
    },
    "tags": []
   },
   "outputs": [
    {
     "name": "stdout",
     "output_type": "stream",
     "text": [
      "1/1 [==============================] - 0s 25ms/step\n",
      "Text: Artificial Intelligence is becoming better at language\n",
      "Humor detected:  False\n"
     ]
    }
   ],
   "source": [
    "text = \"Artificial Intelligence is becoming better at language\"\n",
    "pred = predict(text)\n",
    "print(\"Text:\",text)\n",
    "print('Humor detected: ',pred)"
   ]
  },
  {
   "cell_type": "code",
   "execution_count": 53,
   "id": "fff953cf",
   "metadata": {
    "_kg_hide-input": true,
    "execution": {
     "iopub.execute_input": "2023-03-28T20:15:28.975781Z",
     "iopub.status.busy": "2023-03-28T20:15:28.974886Z",
     "iopub.status.idle": "2023-03-28T20:15:29.041362Z",
     "shell.execute_reply": "2023-03-28T20:15:29.040181Z",
     "shell.execute_reply.started": "2023-03-28T20:07:07.897735Z"
    },
    "papermill": {
     "duration": 0.407216,
     "end_time": "2023-03-28T20:15:29.041546",
     "exception": false,
     "start_time": "2023-03-28T20:15:28.634330",
     "status": "completed"
    },
    "tags": []
   },
   "outputs": [
    {
     "name": "stdout",
     "output_type": "stream",
     "text": [
      "1/1 [==============================] - 0s 26ms/step\n",
      "Text: people say time is precious but they waste it right after they say it themselves\n",
      "Humor detected:  True\n"
     ]
    }
   ],
   "source": [
    "text = \"people say time is precious but they waste it right after they say it themselves\"\n",
    "pred = predict(text)\n",
    "print(\"Text:\",text)\n",
    "print('Humor detected: ',pred)"
   ]
  },
  {
   "cell_type": "code",
   "execution_count": 54,
   "id": "3c6dc52d",
   "metadata": {
    "execution": {
     "iopub.execute_input": "2023-03-28T20:15:29.681448Z",
     "iopub.status.busy": "2023-03-28T20:15:29.680579Z",
     "iopub.status.idle": "2023-03-28T20:15:29.729385Z",
     "shell.execute_reply": "2023-03-28T20:15:29.728756Z",
     "shell.execute_reply.started": "2023-03-28T20:08:31.075137Z"
    },
    "papermill": {
     "duration": 0.317474,
     "end_time": "2023-03-28T20:15:29.729577",
     "exception": false,
     "start_time": "2023-03-28T20:15:29.412103",
     "status": "completed"
    },
    "tags": []
   },
   "outputs": [
    {
     "name": "stdout",
     "output_type": "stream",
     "text": [
      "1/1 [==============================] - 0s 29ms/step\n",
      "Text: The earth is flat\n",
      "Humor detected:  False\n"
     ]
    }
   ],
   "source": [
    "text = \"The earth is flat\"\n",
    "pred = predict(text)\n",
    "print(\"Text:\",text)\n",
    "print('Humor detected: ',pred)"
   ]
  },
  {
   "cell_type": "code",
   "execution_count": null,
   "metadata": {},
   "outputs": [],
   "source": [
    "st.write(\"Enter a funny joke\")\n",
    "\n",
    "inp=st.text_input(label, value=\"\", max_chars=None, key=None, type=\"default\", help=None, autocomplete=\"Write your joke here\", on_change=None, args=None, kwargs=None, *, placeholder=None, disabled=False, label_visibility=\"visible\")"
   ]
  },
  {
   "cell_type": "markdown",
   "metadata": {},
   "source": []
  }
 ],
 "metadata": {
  "kernelspec": {
   "display_name": "Python 3",
   "language": "python",
   "name": "python3"
  },
  "language_info": {
   "codemirror_mode": {
    "name": "ipython",
    "version": 3
   },
   "file_extension": ".py",
   "mimetype": "text/x-python",
   "name": "python",
   "nbconvert_exporter": "python",
   "pygments_lexer": "ipython3",
   "version": "3.10.11"
  },
  "papermill": {
   "default_parameters": {},
   "duration": 158.452506,
   "end_time": "2023-03-28T20:15:33.742021",
   "environment_variables": {},
   "exception": null,
   "input_path": "__notebook__.ipynb",
   "output_path": "__notebook__.ipynb",
   "parameters": {},
   "start_time": "2023-03-28T20:12:55.289515",
   "version": "2.3.3"
  }
 },
 "nbformat": 4,
 "nbformat_minor": 5
}
